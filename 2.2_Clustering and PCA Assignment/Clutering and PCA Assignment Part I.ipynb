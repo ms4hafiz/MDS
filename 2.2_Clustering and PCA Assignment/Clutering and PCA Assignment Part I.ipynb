{
 "cells": [
  {
   "cell_type": "markdown",
   "metadata": {},
   "source": [
    "### Assignment : Clustering and PCA"
   ]
  },
  {
   "cell_type": "markdown",
   "metadata": {},
   "source": [
    "## Problem Statement\n",
    "HELP International is an international humanitarian NGO that is committed to fighting poverty and providing the people of backward countries with basic amenities and relief during the time of disasters and natural calamities. It runs a lot of operational projects from time to time along with advocacy drives to raise awareness as well as for funding purposes.\n",
    "\n",
    "After the recent project that included a lot of awareness drives and funding programmes, they have been able to raise around $ 10 million. Now the CEO of the NGO needs to decide how to use this money strategically and effectively. The significant issues that come while making this decision are mostly related to choosing the countries that are in the direst need of aid.\n",
    "\n",
    "And this is where you come in as a data analyst. Your job is to categorise the countries using some socio-economic and health factors that determine the overall development of the country. Then you need to suggest the countries which the CEO needs to focus on the most."
   ]
  },
  {
   "cell_type": "markdown",
   "metadata": {},
   "source": [
    "- ####  Setting Environment"
   ]
  },
  {
   "cell_type": "code",
   "execution_count": 79,
   "metadata": {},
   "outputs": [],
   "source": [
    "# suppress warning messages\n",
    "import warnings\n",
    "warnings.filterwarnings('ignore')\n",
    "\n",
    "import numpy as np\n",
    "import pandas as pd\n",
    "import matplotlib.pyplot as plt\n",
    "import seaborn as sns\n",
    "\n",
    "# PCA\n",
    "from sklearn.decomposition import PCA\n",
    "from sklearn.decomposition import IncrementalPCA\n",
    "\n",
    "# To perform KMeans clustering \n",
    "from sklearn.cluster import KMeans"
   ]
  },
  {
   "cell_type": "markdown",
   "metadata": {},
   "source": [
    "- #### Importing and Understanding Data Set"
   ]
  },
  {
   "cell_type": "code",
   "execution_count": 80,
   "metadata": {},
   "outputs": [],
   "source": [
    "# importing data set\n",
    "country_df = pd.read_csv(r'data/Country-data.csv')"
   ]
  },
  {
   "cell_type": "code",
   "execution_count": 81,
   "metadata": {
    "scrolled": false
   },
   "outputs": [
    {
     "data": {
      "text/html": [
       "<div>\n",
       "<style scoped>\n",
       "    .dataframe tbody tr th:only-of-type {\n",
       "        vertical-align: middle;\n",
       "    }\n",
       "\n",
       "    .dataframe tbody tr th {\n",
       "        vertical-align: top;\n",
       "    }\n",
       "\n",
       "    .dataframe thead th {\n",
       "        text-align: right;\n",
       "    }\n",
       "</style>\n",
       "<table border=\"1\" class=\"dataframe\">\n",
       "  <thead>\n",
       "    <tr style=\"text-align: right;\">\n",
       "      <th></th>\n",
       "      <th>country</th>\n",
       "      <th>child_mort</th>\n",
       "      <th>exports</th>\n",
       "      <th>health</th>\n",
       "      <th>imports</th>\n",
       "      <th>income</th>\n",
       "      <th>inflation</th>\n",
       "      <th>life_expec</th>\n",
       "      <th>total_fer</th>\n",
       "      <th>gdpp</th>\n",
       "    </tr>\n",
       "  </thead>\n",
       "  <tbody>\n",
       "    <tr>\n",
       "      <th>0</th>\n",
       "      <td>Afghanistan</td>\n",
       "      <td>90.2</td>\n",
       "      <td>10.0</td>\n",
       "      <td>7.58</td>\n",
       "      <td>44.9</td>\n",
       "      <td>1610</td>\n",
       "      <td>9.44</td>\n",
       "      <td>56.2</td>\n",
       "      <td>5.82</td>\n",
       "      <td>553</td>\n",
       "    </tr>\n",
       "    <tr>\n",
       "      <th>1</th>\n",
       "      <td>Albania</td>\n",
       "      <td>16.6</td>\n",
       "      <td>28.0</td>\n",
       "      <td>6.55</td>\n",
       "      <td>48.6</td>\n",
       "      <td>9930</td>\n",
       "      <td>4.49</td>\n",
       "      <td>76.3</td>\n",
       "      <td>1.65</td>\n",
       "      <td>4090</td>\n",
       "    </tr>\n",
       "    <tr>\n",
       "      <th>2</th>\n",
       "      <td>Algeria</td>\n",
       "      <td>27.3</td>\n",
       "      <td>38.4</td>\n",
       "      <td>4.17</td>\n",
       "      <td>31.4</td>\n",
       "      <td>12900</td>\n",
       "      <td>16.10</td>\n",
       "      <td>76.5</td>\n",
       "      <td>2.89</td>\n",
       "      <td>4460</td>\n",
       "    </tr>\n",
       "    <tr>\n",
       "      <th>3</th>\n",
       "      <td>Angola</td>\n",
       "      <td>119.0</td>\n",
       "      <td>62.3</td>\n",
       "      <td>2.85</td>\n",
       "      <td>42.9</td>\n",
       "      <td>5900</td>\n",
       "      <td>22.40</td>\n",
       "      <td>60.1</td>\n",
       "      <td>6.16</td>\n",
       "      <td>3530</td>\n",
       "    </tr>\n",
       "    <tr>\n",
       "      <th>4</th>\n",
       "      <td>Antigua and Barbuda</td>\n",
       "      <td>10.3</td>\n",
       "      <td>45.5</td>\n",
       "      <td>6.03</td>\n",
       "      <td>58.9</td>\n",
       "      <td>19100</td>\n",
       "      <td>1.44</td>\n",
       "      <td>76.8</td>\n",
       "      <td>2.13</td>\n",
       "      <td>12200</td>\n",
       "    </tr>\n",
       "  </tbody>\n",
       "</table>\n",
       "</div>"
      ],
      "text/plain": [
       "               country  child_mort  exports  health  imports  income  \\\n",
       "0          Afghanistan        90.2     10.0    7.58     44.9    1610   \n",
       "1              Albania        16.6     28.0    6.55     48.6    9930   \n",
       "2              Algeria        27.3     38.4    4.17     31.4   12900   \n",
       "3               Angola       119.0     62.3    2.85     42.9    5900   \n",
       "4  Antigua and Barbuda        10.3     45.5    6.03     58.9   19100   \n",
       "\n",
       "   inflation  life_expec  total_fer   gdpp  \n",
       "0       9.44        56.2       5.82    553  \n",
       "1       4.49        76.3       1.65   4090  \n",
       "2      16.10        76.5       2.89   4460  \n",
       "3      22.40        60.1       6.16   3530  \n",
       "4       1.44        76.8       2.13  12200  "
      ]
     },
     "execution_count": 81,
     "metadata": {},
     "output_type": "execute_result"
    }
   ],
   "source": [
    "country_df.head()"
   ]
  },
  {
   "cell_type": "code",
   "execution_count": 82,
   "metadata": {},
   "outputs": [
    {
     "data": {
      "text/plain": [
       "(167, 10)"
      ]
     },
     "execution_count": 82,
     "metadata": {},
     "output_type": "execute_result"
    }
   ],
   "source": [
    "# shape of data\n",
    "country_df.shape"
   ]
  },
  {
   "cell_type": "code",
   "execution_count": 83,
   "metadata": {
    "scrolled": true
   },
   "outputs": [
    {
     "name": "stdout",
     "output_type": "stream",
     "text": [
      "<class 'pandas.core.frame.DataFrame'>\n",
      "RangeIndex: 167 entries, 0 to 166\n",
      "Data columns (total 10 columns):\n",
      "country       167 non-null object\n",
      "child_mort    167 non-null float64\n",
      "exports       167 non-null float64\n",
      "health        167 non-null float64\n",
      "imports       167 non-null float64\n",
      "income        167 non-null int64\n",
      "inflation     167 non-null float64\n",
      "life_expec    167 non-null float64\n",
      "total_fer     167 non-null float64\n",
      "gdpp          167 non-null int64\n",
      "dtypes: float64(7), int64(2), object(1)\n",
      "memory usage: 13.1+ KB\n"
     ]
    }
   ],
   "source": [
    "# basic info \n",
    "country_df.info()"
   ]
  },
  {
   "cell_type": "code",
   "execution_count": 84,
   "metadata": {
    "scrolled": false
   },
   "outputs": [
    {
     "data": {
      "text/plain": [
       "country       0\n",
       "child_mort    0\n",
       "exports       0\n",
       "health        0\n",
       "imports       0\n",
       "income        0\n",
       "inflation     0\n",
       "life_expec    0\n",
       "total_fer     0\n",
       "gdpp          0\n",
       "dtype: int64"
      ]
     },
     "execution_count": 84,
     "metadata": {},
     "output_type": "execute_result"
    }
   ],
   "source": [
    "# Checking null values\n",
    "country_df.isnull().sum()"
   ]
  },
  {
   "cell_type": "markdown",
   "metadata": {},
   "source": [
    "```There is no null values found to treat```"
   ]
  },
  {
   "cell_type": "code",
   "execution_count": 85,
   "metadata": {},
   "outputs": [],
   "source": [
    "# Change Export, Import and Health from percentage to actual value of GDP\n",
    "country_df['exports']=(country_df['exports']*country_df['gdpp'])/100\n",
    "country_df['health']=(country_df['health']*country_df['gdpp'])/100\n",
    "country_df['imports']=(country_df['imports']*country_df['gdpp'])/100"
   ]
  },
  {
   "cell_type": "code",
   "execution_count": 86,
   "metadata": {},
   "outputs": [
    {
     "data": {
      "text/html": [
       "<div>\n",
       "<style scoped>\n",
       "    .dataframe tbody tr th:only-of-type {\n",
       "        vertical-align: middle;\n",
       "    }\n",
       "\n",
       "    .dataframe tbody tr th {\n",
       "        vertical-align: top;\n",
       "    }\n",
       "\n",
       "    .dataframe thead th {\n",
       "        text-align: right;\n",
       "    }\n",
       "</style>\n",
       "<table border=\"1\" class=\"dataframe\">\n",
       "  <thead>\n",
       "    <tr style=\"text-align: right;\">\n",
       "      <th></th>\n",
       "      <th>country</th>\n",
       "      <th>child_mort</th>\n",
       "      <th>exports</th>\n",
       "      <th>health</th>\n",
       "      <th>imports</th>\n",
       "      <th>income</th>\n",
       "      <th>inflation</th>\n",
       "      <th>life_expec</th>\n",
       "      <th>total_fer</th>\n",
       "      <th>gdpp</th>\n",
       "    </tr>\n",
       "  </thead>\n",
       "  <tbody>\n",
       "    <tr>\n",
       "      <th>0</th>\n",
       "      <td>Afghanistan</td>\n",
       "      <td>90.2</td>\n",
       "      <td>55.30</td>\n",
       "      <td>41.9174</td>\n",
       "      <td>248.297</td>\n",
       "      <td>1610</td>\n",
       "      <td>9.44</td>\n",
       "      <td>56.2</td>\n",
       "      <td>5.82</td>\n",
       "      <td>553</td>\n",
       "    </tr>\n",
       "    <tr>\n",
       "      <th>1</th>\n",
       "      <td>Albania</td>\n",
       "      <td>16.6</td>\n",
       "      <td>1145.20</td>\n",
       "      <td>267.8950</td>\n",
       "      <td>1987.740</td>\n",
       "      <td>9930</td>\n",
       "      <td>4.49</td>\n",
       "      <td>76.3</td>\n",
       "      <td>1.65</td>\n",
       "      <td>4090</td>\n",
       "    </tr>\n",
       "    <tr>\n",
       "      <th>2</th>\n",
       "      <td>Algeria</td>\n",
       "      <td>27.3</td>\n",
       "      <td>1712.64</td>\n",
       "      <td>185.9820</td>\n",
       "      <td>1400.440</td>\n",
       "      <td>12900</td>\n",
       "      <td>16.10</td>\n",
       "      <td>76.5</td>\n",
       "      <td>2.89</td>\n",
       "      <td>4460</td>\n",
       "    </tr>\n",
       "    <tr>\n",
       "      <th>3</th>\n",
       "      <td>Angola</td>\n",
       "      <td>119.0</td>\n",
       "      <td>2199.19</td>\n",
       "      <td>100.6050</td>\n",
       "      <td>1514.370</td>\n",
       "      <td>5900</td>\n",
       "      <td>22.40</td>\n",
       "      <td>60.1</td>\n",
       "      <td>6.16</td>\n",
       "      <td>3530</td>\n",
       "    </tr>\n",
       "    <tr>\n",
       "      <th>4</th>\n",
       "      <td>Antigua and Barbuda</td>\n",
       "      <td>10.3</td>\n",
       "      <td>5551.00</td>\n",
       "      <td>735.6600</td>\n",
       "      <td>7185.800</td>\n",
       "      <td>19100</td>\n",
       "      <td>1.44</td>\n",
       "      <td>76.8</td>\n",
       "      <td>2.13</td>\n",
       "      <td>12200</td>\n",
       "    </tr>\n",
       "  </tbody>\n",
       "</table>\n",
       "</div>"
      ],
      "text/plain": [
       "               country  child_mort  exports    health   imports  income  \\\n",
       "0          Afghanistan        90.2    55.30   41.9174   248.297    1610   \n",
       "1              Albania        16.6  1145.20  267.8950  1987.740    9930   \n",
       "2              Algeria        27.3  1712.64  185.9820  1400.440   12900   \n",
       "3               Angola       119.0  2199.19  100.6050  1514.370    5900   \n",
       "4  Antigua and Barbuda        10.3  5551.00  735.6600  7185.800   19100   \n",
       "\n",
       "   inflation  life_expec  total_fer   gdpp  \n",
       "0       9.44        56.2       5.82    553  \n",
       "1       4.49        76.3       1.65   4090  \n",
       "2      16.10        76.5       2.89   4460  \n",
       "3      22.40        60.1       6.16   3530  \n",
       "4       1.44        76.8       2.13  12200  "
      ]
     },
     "execution_count": 86,
     "metadata": {},
     "output_type": "execute_result"
    }
   ],
   "source": [
    "country_df.head()"
   ]
  },
  {
   "cell_type": "code",
   "execution_count": 87,
   "metadata": {
    "scrolled": false
   },
   "outputs": [
    {
     "data": {
      "text/html": [
       "<div>\n",
       "<style scoped>\n",
       "    .dataframe tbody tr th:only-of-type {\n",
       "        vertical-align: middle;\n",
       "    }\n",
       "\n",
       "    .dataframe tbody tr th {\n",
       "        vertical-align: top;\n",
       "    }\n",
       "\n",
       "    .dataframe thead th {\n",
       "        text-align: right;\n",
       "    }\n",
       "</style>\n",
       "<table border=\"1\" class=\"dataframe\">\n",
       "  <thead>\n",
       "    <tr style=\"text-align: right;\">\n",
       "      <th></th>\n",
       "      <th>child_mort</th>\n",
       "      <th>exports</th>\n",
       "      <th>health</th>\n",
       "      <th>imports</th>\n",
       "      <th>income</th>\n",
       "      <th>inflation</th>\n",
       "      <th>life_expec</th>\n",
       "      <th>total_fer</th>\n",
       "      <th>gdpp</th>\n",
       "    </tr>\n",
       "  </thead>\n",
       "  <tbody>\n",
       "    <tr>\n",
       "      <th>count</th>\n",
       "      <td>167.000000</td>\n",
       "      <td>167.000000</td>\n",
       "      <td>167.000000</td>\n",
       "      <td>167.000000</td>\n",
       "      <td>167.000000</td>\n",
       "      <td>167.000000</td>\n",
       "      <td>167.000000</td>\n",
       "      <td>167.000000</td>\n",
       "      <td>167.000000</td>\n",
       "    </tr>\n",
       "    <tr>\n",
       "      <th>mean</th>\n",
       "      <td>38.270060</td>\n",
       "      <td>7420.618847</td>\n",
       "      <td>1056.733204</td>\n",
       "      <td>6588.352108</td>\n",
       "      <td>17144.688623</td>\n",
       "      <td>7.781832</td>\n",
       "      <td>70.555689</td>\n",
       "      <td>2.947964</td>\n",
       "      <td>12964.155689</td>\n",
       "    </tr>\n",
       "    <tr>\n",
       "      <th>std</th>\n",
       "      <td>40.328931</td>\n",
       "      <td>17973.885795</td>\n",
       "      <td>1801.408906</td>\n",
       "      <td>14710.810418</td>\n",
       "      <td>19278.067698</td>\n",
       "      <td>10.570704</td>\n",
       "      <td>8.893172</td>\n",
       "      <td>1.513848</td>\n",
       "      <td>18328.704809</td>\n",
       "    </tr>\n",
       "    <tr>\n",
       "      <th>min</th>\n",
       "      <td>2.600000</td>\n",
       "      <td>1.076920</td>\n",
       "      <td>12.821200</td>\n",
       "      <td>0.651092</td>\n",
       "      <td>609.000000</td>\n",
       "      <td>-4.210000</td>\n",
       "      <td>32.100000</td>\n",
       "      <td>1.150000</td>\n",
       "      <td>231.000000</td>\n",
       "    </tr>\n",
       "    <tr>\n",
       "      <th>25%</th>\n",
       "      <td>8.250000</td>\n",
       "      <td>447.140000</td>\n",
       "      <td>78.535500</td>\n",
       "      <td>640.215000</td>\n",
       "      <td>3355.000000</td>\n",
       "      <td>1.810000</td>\n",
       "      <td>65.300000</td>\n",
       "      <td>1.795000</td>\n",
       "      <td>1330.000000</td>\n",
       "    </tr>\n",
       "    <tr>\n",
       "      <th>50%</th>\n",
       "      <td>19.300000</td>\n",
       "      <td>1777.440000</td>\n",
       "      <td>321.886000</td>\n",
       "      <td>2045.580000</td>\n",
       "      <td>9960.000000</td>\n",
       "      <td>5.390000</td>\n",
       "      <td>73.100000</td>\n",
       "      <td>2.410000</td>\n",
       "      <td>4660.000000</td>\n",
       "    </tr>\n",
       "    <tr>\n",
       "      <th>75%</th>\n",
       "      <td>62.100000</td>\n",
       "      <td>7278.000000</td>\n",
       "      <td>976.940000</td>\n",
       "      <td>7719.600000</td>\n",
       "      <td>22800.000000</td>\n",
       "      <td>10.750000</td>\n",
       "      <td>76.800000</td>\n",
       "      <td>3.880000</td>\n",
       "      <td>14050.000000</td>\n",
       "    </tr>\n",
       "    <tr>\n",
       "      <th>max</th>\n",
       "      <td>208.000000</td>\n",
       "      <td>183750.000000</td>\n",
       "      <td>8663.600000</td>\n",
       "      <td>149100.000000</td>\n",
       "      <td>125000.000000</td>\n",
       "      <td>104.000000</td>\n",
       "      <td>82.800000</td>\n",
       "      <td>7.490000</td>\n",
       "      <td>105000.000000</td>\n",
       "    </tr>\n",
       "  </tbody>\n",
       "</table>\n",
       "</div>"
      ],
      "text/plain": [
       "       child_mort        exports       health        imports         income  \\\n",
       "count  167.000000     167.000000   167.000000     167.000000     167.000000   \n",
       "mean    38.270060    7420.618847  1056.733204    6588.352108   17144.688623   \n",
       "std     40.328931   17973.885795  1801.408906   14710.810418   19278.067698   \n",
       "min      2.600000       1.076920    12.821200       0.651092     609.000000   \n",
       "25%      8.250000     447.140000    78.535500     640.215000    3355.000000   \n",
       "50%     19.300000    1777.440000   321.886000    2045.580000    9960.000000   \n",
       "75%     62.100000    7278.000000   976.940000    7719.600000   22800.000000   \n",
       "max    208.000000  183750.000000  8663.600000  149100.000000  125000.000000   \n",
       "\n",
       "        inflation  life_expec   total_fer           gdpp  \n",
       "count  167.000000  167.000000  167.000000     167.000000  \n",
       "mean     7.781832   70.555689    2.947964   12964.155689  \n",
       "std     10.570704    8.893172    1.513848   18328.704809  \n",
       "min     -4.210000   32.100000    1.150000     231.000000  \n",
       "25%      1.810000   65.300000    1.795000    1330.000000  \n",
       "50%      5.390000   73.100000    2.410000    4660.000000  \n",
       "75%     10.750000   76.800000    3.880000   14050.000000  \n",
       "max    104.000000   82.800000    7.490000  105000.000000  "
      ]
     },
     "execution_count": 87,
     "metadata": {},
     "output_type": "execute_result"
    }
   ],
   "source": [
    "# checking statistics\n",
    "country_df.describe()"
   ]
  },
  {
   "cell_type": "code",
   "execution_count": 88,
   "metadata": {
    "scrolled": false
   },
   "outputs": [
    {
     "data": {
      "text/html": [
       "<div>\n",
       "<style scoped>\n",
       "    .dataframe tbody tr th:only-of-type {\n",
       "        vertical-align: middle;\n",
       "    }\n",
       "\n",
       "    .dataframe tbody tr th {\n",
       "        vertical-align: top;\n",
       "    }\n",
       "\n",
       "    .dataframe thead th {\n",
       "        text-align: right;\n",
       "    }\n",
       "</style>\n",
       "<table border=\"1\" class=\"dataframe\">\n",
       "  <thead>\n",
       "    <tr style=\"text-align: right;\">\n",
       "      <th></th>\n",
       "      <th>child_mort</th>\n",
       "      <th>exports</th>\n",
       "      <th>health</th>\n",
       "      <th>imports</th>\n",
       "      <th>income</th>\n",
       "      <th>inflation</th>\n",
       "      <th>life_expec</th>\n",
       "      <th>total_fer</th>\n",
       "      <th>gdpp</th>\n",
       "    </tr>\n",
       "  </thead>\n",
       "  <tbody>\n",
       "    <tr>\n",
       "      <th>count</th>\n",
       "      <td>167.000000</td>\n",
       "      <td>167.000000</td>\n",
       "      <td>167.000000</td>\n",
       "      <td>167.000000</td>\n",
       "      <td>167.000000</td>\n",
       "      <td>167.000000</td>\n",
       "      <td>167.000000</td>\n",
       "      <td>167.000000</td>\n",
       "      <td>167.000000</td>\n",
       "    </tr>\n",
       "    <tr>\n",
       "      <th>mean</th>\n",
       "      <td>38.270060</td>\n",
       "      <td>7420.618847</td>\n",
       "      <td>1056.733204</td>\n",
       "      <td>6588.352108</td>\n",
       "      <td>17144.688623</td>\n",
       "      <td>7.781832</td>\n",
       "      <td>70.555689</td>\n",
       "      <td>2.947964</td>\n",
       "      <td>12964.155689</td>\n",
       "    </tr>\n",
       "    <tr>\n",
       "      <th>std</th>\n",
       "      <td>40.328931</td>\n",
       "      <td>17973.885795</td>\n",
       "      <td>1801.408906</td>\n",
       "      <td>14710.810418</td>\n",
       "      <td>19278.067698</td>\n",
       "      <td>10.570704</td>\n",
       "      <td>8.893172</td>\n",
       "      <td>1.513848</td>\n",
       "      <td>18328.704809</td>\n",
       "    </tr>\n",
       "    <tr>\n",
       "      <th>min</th>\n",
       "      <td>2.600000</td>\n",
       "      <td>1.076920</td>\n",
       "      <td>12.821200</td>\n",
       "      <td>0.651092</td>\n",
       "      <td>609.000000</td>\n",
       "      <td>-4.210000</td>\n",
       "      <td>32.100000</td>\n",
       "      <td>1.150000</td>\n",
       "      <td>231.000000</td>\n",
       "    </tr>\n",
       "    <tr>\n",
       "      <th>25%</th>\n",
       "      <td>8.250000</td>\n",
       "      <td>447.140000</td>\n",
       "      <td>78.535500</td>\n",
       "      <td>640.215000</td>\n",
       "      <td>3355.000000</td>\n",
       "      <td>1.810000</td>\n",
       "      <td>65.300000</td>\n",
       "      <td>1.795000</td>\n",
       "      <td>1330.000000</td>\n",
       "    </tr>\n",
       "    <tr>\n",
       "      <th>50%</th>\n",
       "      <td>19.300000</td>\n",
       "      <td>1777.440000</td>\n",
       "      <td>321.886000</td>\n",
       "      <td>2045.580000</td>\n",
       "      <td>9960.000000</td>\n",
       "      <td>5.390000</td>\n",
       "      <td>73.100000</td>\n",
       "      <td>2.410000</td>\n",
       "      <td>4660.000000</td>\n",
       "    </tr>\n",
       "    <tr>\n",
       "      <th>75%</th>\n",
       "      <td>62.100000</td>\n",
       "      <td>7278.000000</td>\n",
       "      <td>976.940000</td>\n",
       "      <td>7719.600000</td>\n",
       "      <td>22800.000000</td>\n",
       "      <td>10.750000</td>\n",
       "      <td>76.800000</td>\n",
       "      <td>3.880000</td>\n",
       "      <td>14050.000000</td>\n",
       "    </tr>\n",
       "    <tr>\n",
       "      <th>80%</th>\n",
       "      <td>66.320000</td>\n",
       "      <td>10194.960000</td>\n",
       "      <td>1274.646000</td>\n",
       "      <td>9854.720000</td>\n",
       "      <td>29420.000000</td>\n",
       "      <td>12.500000</td>\n",
       "      <td>78.200000</td>\n",
       "      <td>4.592000</td>\n",
       "      <td>21020.000000</td>\n",
       "    </tr>\n",
       "    <tr>\n",
       "      <th>85%</th>\n",
       "      <td>88.310000</td>\n",
       "      <td>12667.230000</td>\n",
       "      <td>2202.666000</td>\n",
       "      <td>11434.140000</td>\n",
       "      <td>36200.000000</td>\n",
       "      <td>15.330000</td>\n",
       "      <td>79.910000</td>\n",
       "      <td>5.023000</td>\n",
       "      <td>31090.000000</td>\n",
       "    </tr>\n",
       "    <tr>\n",
       "      <th>90%</th>\n",
       "      <td>100.220000</td>\n",
       "      <td>17760.600000</td>\n",
       "      <td>3825.416000</td>\n",
       "      <td>15034.280000</td>\n",
       "      <td>41220.000000</td>\n",
       "      <td>16.640000</td>\n",
       "      <td>80.400000</td>\n",
       "      <td>5.322000</td>\n",
       "      <td>41840.000000</td>\n",
       "    </tr>\n",
       "    <tr>\n",
       "      <th>95%</th>\n",
       "      <td>116.000000</td>\n",
       "      <td>31385.100000</td>\n",
       "      <td>4966.701000</td>\n",
       "      <td>24241.560000</td>\n",
       "      <td>48290.000000</td>\n",
       "      <td>20.870000</td>\n",
       "      <td>81.400000</td>\n",
       "      <td>5.861000</td>\n",
       "      <td>48610.000000</td>\n",
       "    </tr>\n",
       "    <tr>\n",
       "      <th>97%</th>\n",
       "      <td>130.140000</td>\n",
       "      <td>36367.618000</td>\n",
       "      <td>5998.226000</td>\n",
       "      <td>32507.456000</td>\n",
       "      <td>62496.000000</td>\n",
       "      <td>23.626000</td>\n",
       "      <td>81.902000</td>\n",
       "      <td>6.230600</td>\n",
       "      <td>52218.000000</td>\n",
       "    </tr>\n",
       "    <tr>\n",
       "      <th>99%</th>\n",
       "      <td>153.400000</td>\n",
       "      <td>64794.260000</td>\n",
       "      <td>8410.330400</td>\n",
       "      <td>55371.390000</td>\n",
       "      <td>84374.000000</td>\n",
       "      <td>41.478000</td>\n",
       "      <td>82.370000</td>\n",
       "      <td>6.563600</td>\n",
       "      <td>79088.000000</td>\n",
       "    </tr>\n",
       "    <tr>\n",
       "      <th>max</th>\n",
       "      <td>208.000000</td>\n",
       "      <td>183750.000000</td>\n",
       "      <td>8663.600000</td>\n",
       "      <td>149100.000000</td>\n",
       "      <td>125000.000000</td>\n",
       "      <td>104.000000</td>\n",
       "      <td>82.800000</td>\n",
       "      <td>7.490000</td>\n",
       "      <td>105000.000000</td>\n",
       "    </tr>\n",
       "  </tbody>\n",
       "</table>\n",
       "</div>"
      ],
      "text/plain": [
       "       child_mort        exports       health        imports         income  \\\n",
       "count  167.000000     167.000000   167.000000     167.000000     167.000000   \n",
       "mean    38.270060    7420.618847  1056.733204    6588.352108   17144.688623   \n",
       "std     40.328931   17973.885795  1801.408906   14710.810418   19278.067698   \n",
       "min      2.600000       1.076920    12.821200       0.651092     609.000000   \n",
       "25%      8.250000     447.140000    78.535500     640.215000    3355.000000   \n",
       "50%     19.300000    1777.440000   321.886000    2045.580000    9960.000000   \n",
       "75%     62.100000    7278.000000   976.940000    7719.600000   22800.000000   \n",
       "80%     66.320000   10194.960000  1274.646000    9854.720000   29420.000000   \n",
       "85%     88.310000   12667.230000  2202.666000   11434.140000   36200.000000   \n",
       "90%    100.220000   17760.600000  3825.416000   15034.280000   41220.000000   \n",
       "95%    116.000000   31385.100000  4966.701000   24241.560000   48290.000000   \n",
       "97%    130.140000   36367.618000  5998.226000   32507.456000   62496.000000   \n",
       "99%    153.400000   64794.260000  8410.330400   55371.390000   84374.000000   \n",
       "max    208.000000  183750.000000  8663.600000  149100.000000  125000.000000   \n",
       "\n",
       "        inflation  life_expec   total_fer           gdpp  \n",
       "count  167.000000  167.000000  167.000000     167.000000  \n",
       "mean     7.781832   70.555689    2.947964   12964.155689  \n",
       "std     10.570704    8.893172    1.513848   18328.704809  \n",
       "min     -4.210000   32.100000    1.150000     231.000000  \n",
       "25%      1.810000   65.300000    1.795000    1330.000000  \n",
       "50%      5.390000   73.100000    2.410000    4660.000000  \n",
       "75%     10.750000   76.800000    3.880000   14050.000000  \n",
       "80%     12.500000   78.200000    4.592000   21020.000000  \n",
       "85%     15.330000   79.910000    5.023000   31090.000000  \n",
       "90%     16.640000   80.400000    5.322000   41840.000000  \n",
       "95%     20.870000   81.400000    5.861000   48610.000000  \n",
       "97%     23.626000   81.902000    6.230600   52218.000000  \n",
       "99%     41.478000   82.370000    6.563600   79088.000000  \n",
       "max    104.000000   82.800000    7.490000  105000.000000  "
      ]
     },
     "execution_count": 88,
     "metadata": {},
     "output_type": "execute_result"
    }
   ],
   "source": [
    "# checking outliers\n",
    "country_df.describe(percentiles=[.25,.5,.75,.80,.85,.90,.95,.97,.99])"
   ]
  },
  {
   "cell_type": "code",
   "execution_count": 89,
   "metadata": {},
   "outputs": [],
   "source": [
    "# copying data to new data frame\n",
    "countryDf= country_df.copy()"
   ]
  },
  {
   "cell_type": "code",
   "execution_count": 90,
   "metadata": {},
   "outputs": [
    {
     "data": {
      "text/plain": [
       "0"
      ]
     },
     "execution_count": 90,
     "metadata": {},
     "output_type": "execute_result"
    }
   ],
   "source": [
    "# checking for duplicate countries\n",
    "countryDf.duplicated().sum()"
   ]
  },
  {
   "cell_type": "markdown",
   "metadata": {},
   "source": [
    "#### as seen, no duplicate country is found"
   ]
  },
  {
   "cell_type": "markdown",
   "metadata": {},
   "source": [
    "## Outlier treatment"
   ]
  },
  {
   "cell_type": "markdown",
   "metadata": {},
   "source": [
    "- #### Plot before treament"
   ]
  },
  {
   "cell_type": "code",
   "execution_count": 91,
   "metadata": {
    "scrolled": false
   },
   "outputs": [
    {
     "data": {
      "image/png": "[encoded data removed]",
      "text/plain": [
       "<Figure size 1080x1080 with 9 Axes>"
      ]
     },
     "metadata": {
      "needs_background": "light"
     },
     "output_type": "display_data"
    }
   ],
   "source": [
    "# Plotting the original data\n",
    "fig, axs = plt.subplots(3,3,figsize = (15,15))\n",
    "\n",
    "sns.boxplot(countryDf.child_mort, ax = axs[0,0])\n",
    "sns.boxplot(countryDf.exports, ax = axs[0,1])\n",
    "sns.boxplot(countryDf.health, ax = axs[0,2])\n",
    "sns.boxplot(countryDf.imports, ax = axs[1,0])\n",
    "sns.boxplot(countryDf.income, ax = axs[1,1])\n",
    "sns.boxplot(countryDf.life_expec, ax = axs[1,2])\n",
    "sns.boxplot(countryDf.inflation, ax = axs[2,0])\n",
    "sns.boxplot(countryDf.total_fer, ax = axs[2,1])\n",
    "sns.boxplot(countryDf.gdpp, ax = axs[2,2])\n",
    "plt.tight_layout()\n",
    "plt.show()"
   ]
  },
  {
   "cell_type": "markdown",
   "metadata": {},
   "source": [
    "#### there seems to be outlier. We will treat the outliers using capping"
   ]
  },
  {
   "cell_type": "code",
   "execution_count": 92,
   "metadata": {},
   "outputs": [],
   "source": [
    "# function to treat outliers. We will cap with 0.02 as min and 0.98 as max\n",
    "# There does not seem be a small value of outlier so we will it as small as possible\n",
    "\n",
    "for col in countryDf[['child_mort', 'exports', 'health', 'imports', 'income','inflation', 'life_expec', 'total_fer', 'gdpp']]:\n",
    "    perc = countryDf[col].quantile([0.02,0.85]).values\n",
    "    countryDf[col][countryDf[col] <= perc[0]] = perc[0]\n",
    "    countryDf[col][countryDf[col] >= perc[1]] = perc[1]"
   ]
  },
  {
   "cell_type": "code",
   "execution_count": 93,
   "metadata": {},
   "outputs": [
    {
     "data": {
      "text/plain": [
       "(167, 10)"
      ]
     },
     "execution_count": 93,
     "metadata": {},
     "output_type": "execute_result"
    }
   ],
   "source": [
    "countryDf.shape"
   ]
  },
  {
   "cell_type": "code",
   "execution_count": 94,
   "metadata": {
    "scrolled": true
   },
   "outputs": [
    {
     "data": {
      "image/png": "[encoded data removed]",
      "text/plain": [
       "<Figure size 1080x1080 with 9 Axes>"
      ]
     },
     "metadata": {
      "needs_background": "light"
     },
     "output_type": "display_data"
    }
   ],
   "source": [
    "# Plotting the after outlier treatment\n",
    "fig, axs = plt.subplots(3,3,figsize = (15,15))\n",
    "\n",
    "sns.boxplot(countryDf.child_mort, ax = axs[0,0])\n",
    "sns.boxplot(countryDf.exports, ax = axs[0,1])\n",
    "sns.boxplot(countryDf.health, ax = axs[0,2])\n",
    "sns.boxplot(countryDf.imports, ax = axs[1,0])\n",
    "sns.boxplot(countryDf.income, ax = axs[1,1])\n",
    "sns.boxplot(countryDf.life_expec, ax = axs[1,2])\n",
    "sns.boxplot(countryDf.inflation, ax = axs[2,0])\n",
    "sns.boxplot(countryDf.total_fer, ax = axs[2,1])\n",
    "sns.boxplot(countryDf.gdpp, ax = axs[2,2])\n",
    "plt.tight_layout()\n",
    "plt.show()"
   ]
  },
  {
   "cell_type": "markdown",
   "metadata": {},
   "source": [
    "### Checking correlation of variables"
   ]
  },
  {
   "cell_type": "code",
   "execution_count": 95,
   "metadata": {
    "scrolled": false
   },
   "outputs": [
    {
     "data": {
      "image/png": "[encoded data removed]",
      "text/plain": [
       "<Figure size 720x576 with 2 Axes>"
      ]
     },
     "metadata": {
      "needs_background": "light"
     },
     "output_type": "display_data"
    }
   ],
   "source": [
    "# Let's check the correlation coefficients to see which variables are highly correlated\n",
    "plt.figure(figsize = (10, 8))\n",
    "sns.heatmap(countryDf.corr(), annot = True,)\n",
    "plt.show()"
   ]
  },
  {
   "cell_type": "markdown",
   "metadata": {},
   "source": [
    "### There are a degree collinarity between variable. The PCA should handle it but before let's normalize the data"
   ]
  },
  {
   "cell_type": "markdown",
   "metadata": {},
   "source": [
    "## Scaling Data"
   ]
  },
  {
   "cell_type": "code",
   "execution_count": 96,
   "metadata": {},
   "outputs": [],
   "source": [
    "# importing StandardScaler\n",
    "\n",
    "countryDf_2=countryDf.copy()\n",
    "from sklearn.preprocessing import StandardScaler\n",
    "\n",
    "scaler = StandardScaler()\n",
    "\n",
    "cols= ['child_mort', 'exports', 'health', 'imports', 'income','inflation', 'life_expec', 'total_fer', 'gdpp']\n",
    "countryDf_2[cols]= scaler.fit_transform(countryDf[cols])"
   ]
  },
  {
   "cell_type": "code",
   "execution_count": 97,
   "metadata": {},
   "outputs": [
    {
     "data": {
      "text/html": [
       "<div>\n",
       "<style scoped>\n",
       "    .dataframe tbody tr th:only-of-type {\n",
       "        vertical-align: middle;\n",
       "    }\n",
       "\n",
       "    .dataframe tbody tr th {\n",
       "        vertical-align: top;\n",
       "    }\n",
       "\n",
       "    .dataframe thead th {\n",
       "        text-align: right;\n",
       "    }\n",
       "</style>\n",
       "<table border=\"1\" class=\"dataframe\">\n",
       "  <thead>\n",
       "    <tr style=\"text-align: right;\">\n",
       "      <th></th>\n",
       "      <th>child_mort</th>\n",
       "      <th>exports</th>\n",
       "      <th>health</th>\n",
       "      <th>imports</th>\n",
       "      <th>income</th>\n",
       "      <th>inflation</th>\n",
       "      <th>life_expec</th>\n",
       "      <th>total_fer</th>\n",
       "      <th>gdpp</th>\n",
       "    </tr>\n",
       "  </thead>\n",
       "  <tbody>\n",
       "    <tr>\n",
       "      <th>count</th>\n",
       "      <td>1.670000e+02</td>\n",
       "      <td>1.670000e+02</td>\n",
       "      <td>1.670000e+02</td>\n",
       "      <td>1.670000e+02</td>\n",
       "      <td>1.670000e+02</td>\n",
       "      <td>1.670000e+02</td>\n",
       "      <td>1.670000e+02</td>\n",
       "      <td>1.670000e+02</td>\n",
       "      <td>1.670000e+02</td>\n",
       "    </tr>\n",
       "    <tr>\n",
       "      <th>mean</th>\n",
       "      <td>-2.260334e-17</td>\n",
       "      <td>-1.981117e-16</td>\n",
       "      <td>6.249160e-17</td>\n",
       "      <td>-4.387708e-17</td>\n",
       "      <td>1.602178e-16</td>\n",
       "      <td>8.509494e-17</td>\n",
       "      <td>1.276424e-16</td>\n",
       "      <td>5.318434e-17</td>\n",
       "      <td>-2.659217e-17</td>\n",
       "    </tr>\n",
       "    <tr>\n",
       "      <th>std</th>\n",
       "      <td>1.003008e+00</td>\n",
       "      <td>1.003008e+00</td>\n",
       "      <td>1.003008e+00</td>\n",
       "      <td>1.003008e+00</td>\n",
       "      <td>1.003008e+00</td>\n",
       "      <td>1.003008e+00</td>\n",
       "      <td>1.003008e+00</td>\n",
       "      <td>1.003008e+00</td>\n",
       "      <td>1.003008e+00</td>\n",
       "    </tr>\n",
       "    <tr>\n",
       "      <th>min</th>\n",
       "      <td>-1.009402e+00</td>\n",
       "      <td>-8.787982e-01</td>\n",
       "      <td>-8.403793e-01</td>\n",
       "      <td>-9.373694e-01</td>\n",
       "      <td>-1.099445e+00</td>\n",
       "      <td>-1.445068e+00</td>\n",
       "      <td>-2.252919e+00</td>\n",
       "      <td>-1.202864e+00</td>\n",
       "      <td>-8.816328e-01</td>\n",
       "    </tr>\n",
       "    <tr>\n",
       "      <th>25%</th>\n",
       "      <td>-8.386377e-01</td>\n",
       "      <td>-7.938444e-01</td>\n",
       "      <td>-7.619943e-01</td>\n",
       "      <td>-8.135022e-01</td>\n",
       "      <td>-8.976937e-01</td>\n",
       "      <td>-8.667027e-01</td>\n",
       "      <td>-6.513789e-01</td>\n",
       "      <td>-8.073900e-01</td>\n",
       "      <td>-7.937069e-01</td>\n",
       "    </tr>\n",
       "    <tr>\n",
       "      <th>50%</th>\n",
       "      <td>-4.792201e-01</td>\n",
       "      <td>-5.067570e-01</td>\n",
       "      <td>-4.445877e-01</td>\n",
       "      <td>-4.760072e-01</td>\n",
       "      <td>-3.683350e-01</td>\n",
       "      <td>-1.984047e-01</td>\n",
       "      <td>3.134041e-01</td>\n",
       "      <td>-3.325436e-01</td>\n",
       "      <td>-4.905079e-01</td>\n",
       "    </tr>\n",
       "    <tr>\n",
       "      <th>75%</th>\n",
       "      <td>9.129130e-01</td>\n",
       "      <td>6.802998e-01</td>\n",
       "      <td>4.098115e-01</td>\n",
       "      <td>8.865950e-01</td>\n",
       "      <td>6.607288e-01</td>\n",
       "      <td>8.021755e-01</td>\n",
       "      <td>7.710576e-01</td>\n",
       "      <td>8.024550e-01</td>\n",
       "      <td>3.644585e-01</td>\n",
       "    </tr>\n",
       "    <tr>\n",
       "      <th>max</th>\n",
       "      <td>1.765432e+00</td>\n",
       "      <td>1.843331e+00</td>\n",
       "      <td>2.008549e+00</td>\n",
       "      <td>1.778633e+00</td>\n",
       "      <td>1.734674e+00</td>\n",
       "      <td>1.657149e+00</td>\n",
       "      <td>1.155734e+00</td>\n",
       "      <td>1.684974e+00</td>\n",
       "      <td>1.915963e+00</td>\n",
       "    </tr>\n",
       "  </tbody>\n",
       "</table>\n",
       "</div>"
      ],
      "text/plain": [
       "         child_mort       exports        health       imports        income  \\\n",
       "count  1.670000e+02  1.670000e+02  1.670000e+02  1.670000e+02  1.670000e+02   \n",
       "mean  -2.260334e-17 -1.981117e-16  6.249160e-17 -4.387708e-17  1.602178e-16   \n",
       "std    1.003008e+00  1.003008e+00  1.003008e+00  1.003008e+00  1.003008e+00   \n",
       "min   -1.009402e+00 -8.787982e-01 -8.403793e-01 -9.373694e-01 -1.099445e+00   \n",
       "25%   -8.386377e-01 -7.938444e-01 -7.619943e-01 -8.135022e-01 -8.976937e-01   \n",
       "50%   -4.792201e-01 -5.067570e-01 -4.445877e-01 -4.760072e-01 -3.683350e-01   \n",
       "75%    9.129130e-01  6.802998e-01  4.098115e-01  8.865950e-01  6.607288e-01   \n",
       "max    1.765432e+00  1.843331e+00  2.008549e+00  1.778633e+00  1.734674e+00   \n",
       "\n",
       "          inflation    life_expec     total_fer          gdpp  \n",
       "count  1.670000e+02  1.670000e+02  1.670000e+02  1.670000e+02  \n",
       "mean   8.509494e-17  1.276424e-16  5.318434e-17 -2.659217e-17  \n",
       "std    1.003008e+00  1.003008e+00  1.003008e+00  1.003008e+00  \n",
       "min   -1.445068e+00 -2.252919e+00 -1.202864e+00 -8.816328e-01  \n",
       "25%   -8.667027e-01 -6.513789e-01 -8.073900e-01 -7.937069e-01  \n",
       "50%   -1.984047e-01  3.134041e-01 -3.325436e-01 -4.905079e-01  \n",
       "75%    8.021755e-01  7.710576e-01  8.024550e-01  3.644585e-01  \n",
       "max    1.657149e+00  1.155734e+00  1.684974e+00  1.915963e+00  "
      ]
     },
     "execution_count": 97,
     "metadata": {},
     "output_type": "execute_result"
    }
   ],
   "source": [
    "countryDf_2.describe()"
   ]
  },
  {
   "cell_type": "code",
   "execution_count": 98,
   "metadata": {},
   "outputs": [],
   "source": [
    "# Removing country column\n",
    "X=countryDf_2.drop(['country'],axis=1)\n",
    "# storing year in y\n",
    "y=countryDf_2['country']"
   ]
  },
  {
   "cell_type": "markdown",
   "metadata": {},
   "source": [
    "## Applying PCA on the data set"
   ]
  },
  {
   "cell_type": "code",
   "execution_count": 99,
   "metadata": {
    "scrolled": true
   },
   "outputs": [
    {
     "data": {
      "text/plain": [
       "PCA(copy=True, iterated_power='auto', n_components=None, random_state=42,\n",
       "    svd_solver='auto', tol=0.0, whiten=False)"
      ]
     },
     "execution_count": 99,
     "metadata": {},
     "output_type": "execute_result"
    }
   ],
   "source": [
    "# import library\n",
    "from sklearn.decomposition import PCA\n",
    "\n",
    "pca = PCA(random_state=42)\n",
    "\n",
    "# fitting PCA on the data\n",
    "pca.fit(X)"
   ]
  },
  {
   "cell_type": "code",
   "execution_count": 100,
   "metadata": {
    "scrolled": true
   },
   "outputs": [
    {
     "data": {
      "text/plain": [
       "array([[-0.32647492,  0.35556356,  0.35879291,  0.36660354,  0.36940134,\n",
       "        -0.17948376,  0.33151103, -0.30276299,  0.36554263],\n",
       "       [ 0.47088889,  0.31530675,  0.22986426,  0.25275847,  0.19668864,\n",
       "         0.11245922, -0.38409653,  0.5331343 ,  0.28111396],\n",
       "       [-0.12393434,  0.07986076, -0.09075362, -0.03351823,  0.17178471,\n",
       "         0.95596209,  0.13190303, -0.07726024,  0.04649513],\n",
       "       [-0.021291  ,  0.40058124, -0.44561992,  0.32295265,  0.03937101,\n",
       "        -0.02572704, -0.52932541, -0.44502904, -0.23613057],\n",
       "       [ 0.13831611, -0.3353209 ,  0.48658173, -0.24828496,  0.04350485,\n",
       "         0.08929595, -0.48542987, -0.52146412,  0.22932059],\n",
       "       [-0.79496842, -0.0939187 ,  0.10423659,  0.00835264, -0.02852466,\n",
       "         0.01164932, -0.45289504,  0.3761022 ,  0.02744631],\n",
       "       [ 0.00482763,  0.11328462,  0.42570578,  0.41783313, -0.73942412,\n",
       "         0.17609184,  0.06338325, -0.05830102, -0.21485005],\n",
       "       [-0.00917604, -0.20850214, -0.426243  ,  0.20033227, -0.38083454,\n",
       "         0.01071209, -0.00542279, -0.04943424,  0.76616167],\n",
       "       [ 0.06819897, -0.65554997, -0.03288154,  0.64796634,  0.31512992,\n",
       "         0.03715578,  0.01354918,  0.02935906, -0.20719219]])"
      ]
     },
     "execution_count": 100,
     "metadata": {},
     "output_type": "execute_result"
    }
   ],
   "source": [
    "# Looking at PCA componets\n",
    "pca.components_"
   ]
  },
  {
   "cell_type": "code",
   "execution_count": 101,
   "metadata": {
    "scrolled": true
   },
   "outputs": [
    {
     "data": {
      "image/png": "[encoded data removed]",
      "text/plain": [
       "<Figure size 720x432 with 1 Axes>"
      ]
     },
     "metadata": {
      "needs_background": "light"
     },
     "output_type": "display_data"
    }
   ],
   "source": [
    "# Looking at PCA scree plot\n",
    "plt.figure(figsize=(10,6))\n",
    "plt.vlines(x=2, ymax=1, ymin=0.75, colors=\"r\", linestyles=\"--\")\n",
    "plt.hlines(y=0.9457, xmax=8, xmin=0, colors=\"g\", linestyles=\"--\")\n",
    "plt.plot(np.cumsum(pca.explained_variance_ratio_))\n",
    "plt.ylabel(\"Scree plot\")\n",
    "plt.grid()"
   ]
  },
  {
   "cell_type": "code",
   "execution_count": 102,
   "metadata": {
    "scrolled": true
   },
   "outputs": [
    {
     "data": {
      "text/plain": [
       "array([ 73.46,  85.2 ,  94.57,  96.64,  98.33,  99.12,  99.69,  99.88,\n",
       "       100.  ])"
      ]
     },
     "execution_count": 102,
     "metadata": {},
     "output_type": "execute_result"
    }
   ],
   "source": [
    "np.cumsum(pca.explained_variance_ratio_.round(4)*100)"
   ]
  },
  {
   "cell_type": "markdown",
   "metadata": {},
   "source": [
    "``` Will choose 3 components that describes about 94.57% variance```"
   ]
  },
  {
   "cell_type": "code",
   "execution_count": 103,
   "metadata": {},
   "outputs": [],
   "source": [
    "pca_df = pd.DataFrame({'PC1':pca.components_[0],'PC2':pca.components_[1],'PC3':pca.components_[2],'Features':X.columns})"
   ]
  },
  {
   "cell_type": "code",
   "execution_count": 104,
   "metadata": {
    "scrolled": false
   },
   "outputs": [
    {
     "data": {
      "text/html": [
       "<div>\n",
       "<style scoped>\n",
       "    .dataframe tbody tr th:only-of-type {\n",
       "        vertical-align: middle;\n",
       "    }\n",
       "\n",
       "    .dataframe tbody tr th {\n",
       "        vertical-align: top;\n",
       "    }\n",
       "\n",
       "    .dataframe thead th {\n",
       "        text-align: right;\n",
       "    }\n",
       "</style>\n",
       "<table border=\"1\" class=\"dataframe\">\n",
       "  <thead>\n",
       "    <tr style=\"text-align: right;\">\n",
       "      <th></th>\n",
       "      <th>PC1</th>\n",
       "      <th>PC2</th>\n",
       "      <th>PC3</th>\n",
       "      <th>Features</th>\n",
       "    </tr>\n",
       "  </thead>\n",
       "  <tbody>\n",
       "    <tr>\n",
       "      <th>0</th>\n",
       "      <td>-0.326475</td>\n",
       "      <td>0.470889</td>\n",
       "      <td>-0.123934</td>\n",
       "      <td>child_mort</td>\n",
       "    </tr>\n",
       "    <tr>\n",
       "      <th>1</th>\n",
       "      <td>0.355564</td>\n",
       "      <td>0.315307</td>\n",
       "      <td>0.079861</td>\n",
       "      <td>exports</td>\n",
       "    </tr>\n",
       "    <tr>\n",
       "      <th>2</th>\n",
       "      <td>0.358793</td>\n",
       "      <td>0.229864</td>\n",
       "      <td>-0.090754</td>\n",
       "      <td>health</td>\n",
       "    </tr>\n",
       "    <tr>\n",
       "      <th>3</th>\n",
       "      <td>0.366604</td>\n",
       "      <td>0.252758</td>\n",
       "      <td>-0.033518</td>\n",
       "      <td>imports</td>\n",
       "    </tr>\n",
       "    <tr>\n",
       "      <th>4</th>\n",
       "      <td>0.369401</td>\n",
       "      <td>0.196689</td>\n",
       "      <td>0.171785</td>\n",
       "      <td>income</td>\n",
       "    </tr>\n",
       "    <tr>\n",
       "      <th>5</th>\n",
       "      <td>-0.179484</td>\n",
       "      <td>0.112459</td>\n",
       "      <td>0.955962</td>\n",
       "      <td>inflation</td>\n",
       "    </tr>\n",
       "    <tr>\n",
       "      <th>6</th>\n",
       "      <td>0.331511</td>\n",
       "      <td>-0.384097</td>\n",
       "      <td>0.131903</td>\n",
       "      <td>life_expec</td>\n",
       "    </tr>\n",
       "    <tr>\n",
       "      <th>7</th>\n",
       "      <td>-0.302763</td>\n",
       "      <td>0.533134</td>\n",
       "      <td>-0.077260</td>\n",
       "      <td>total_fer</td>\n",
       "    </tr>\n",
       "    <tr>\n",
       "      <th>8</th>\n",
       "      <td>0.365543</td>\n",
       "      <td>0.281114</td>\n",
       "      <td>0.046495</td>\n",
       "      <td>gdpp</td>\n",
       "    </tr>\n",
       "  </tbody>\n",
       "</table>\n",
       "</div>"
      ],
      "text/plain": [
       "        PC1       PC2       PC3    Features\n",
       "0 -0.326475  0.470889 -0.123934  child_mort\n",
       "1  0.355564  0.315307  0.079861     exports\n",
       "2  0.358793  0.229864 -0.090754      health\n",
       "3  0.366604  0.252758 -0.033518     imports\n",
       "4  0.369401  0.196689  0.171785      income\n",
       "5 -0.179484  0.112459  0.955962   inflation\n",
       "6  0.331511 -0.384097  0.131903  life_expec\n",
       "7 -0.302763  0.533134 -0.077260   total_fer\n",
       "8  0.365543  0.281114  0.046495        gdpp"
      ]
     },
     "execution_count": 104,
     "metadata": {},
     "output_type": "execute_result"
    }
   ],
   "source": [
    "pca_df"
   ]
  },
  {
   "cell_type": "markdown",
   "metadata": {},
   "source": [
    "### Run the PCA with the components choosed above"
   ]
  },
  {
   "cell_type": "code",
   "execution_count": 105,
   "metadata": {},
   "outputs": [],
   "source": [
    "# Incremental PCA \n",
    "from sklearn.decomposition import IncrementalPCA\n",
    "pca_final = IncrementalPCA(n_components=3)"
   ]
  },
  {
   "cell_type": "code",
   "execution_count": 106,
   "metadata": {
    "scrolled": true
   },
   "outputs": [
    {
     "data": {
      "text/plain": [
       "(167, 3)"
      ]
     },
     "execution_count": 106,
     "metadata": {},
     "output_type": "execute_result"
    }
   ],
   "source": [
    "df_train_pca = pca_final.fit_transform(X)\n",
    "pcadf = pd.DataFrame(df_train_pca,columns= ['PC1', 'PC2','PC3'])\n",
    "pcadf.shape"
   ]
  },
  {
   "cell_type": "markdown",
   "metadata": {},
   "source": [
    "### Plotting Correlation Matrix for the 3 components"
   ]
  },
  {
   "cell_type": "code",
   "execution_count": 107,
   "metadata": {
    "scrolled": true
   },
   "outputs": [
    {
     "data": {
      "image/png": "[encoded data removed]",
      "text/plain": [
       "<Figure size 576x360 with 2 Axes>"
      ]
     },
     "metadata": {
      "needs_background": "light"
     },
     "output_type": "display_data"
    }
   ],
   "source": [
    "plt.figure(figsize=(8,5))\n",
    "sns.heatmap(pcadf.corr(),annot=True)\n",
    "plt.show()"
   ]
  },
  {
   "cell_type": "markdown",
   "metadata": {},
   "source": [
    "``` As shown above, the correlcation is around 0 and there is not any signficant correlation between selected components```"
   ]
  },
  {
   "cell_type": "code",
   "execution_count": 108,
   "metadata": {
    "scrolled": true
   },
   "outputs": [],
   "source": [
    "# concatenating country name with pcadf (DataFrame)\n",
    "pcadf_country= pd.concat([y,pcadf],axis=1)"
   ]
  },
  {
   "cell_type": "code",
   "execution_count": 109,
   "metadata": {
    "scrolled": true
   },
   "outputs": [
    {
     "data": {
      "text/html": [
       "<div>\n",
       "<style scoped>\n",
       "    .dataframe tbody tr th:only-of-type {\n",
       "        vertical-align: middle;\n",
       "    }\n",
       "\n",
       "    .dataframe tbody tr th {\n",
       "        vertical-align: top;\n",
       "    }\n",
       "\n",
       "    .dataframe thead th {\n",
       "        text-align: right;\n",
       "    }\n",
       "</style>\n",
       "<table border=\"1\" class=\"dataframe\">\n",
       "  <thead>\n",
       "    <tr style=\"text-align: right;\">\n",
       "      <th></th>\n",
       "      <th>country</th>\n",
       "      <th>PC1</th>\n",
       "      <th>PC2</th>\n",
       "      <th>PC3</th>\n",
       "    </tr>\n",
       "  </thead>\n",
       "  <tbody>\n",
       "    <tr>\n",
       "      <th>0</th>\n",
       "      <td>Afghanistan</td>\n",
       "      <td>-3.410557</td>\n",
       "      <td>1.335314</td>\n",
       "      <td>-0.234486</td>\n",
       "    </tr>\n",
       "    <tr>\n",
       "      <th>1</th>\n",
       "      <td>Albania</td>\n",
       "      <td>-0.163978</td>\n",
       "      <td>-1.741221</td>\n",
       "      <td>-0.193250</td>\n",
       "    </tr>\n",
       "    <tr>\n",
       "      <th>2</th>\n",
       "      <td>Algeria</td>\n",
       "      <td>-0.868662</td>\n",
       "      <td>-0.816567</td>\n",
       "      <td>1.693218</td>\n",
       "    </tr>\n",
       "    <tr>\n",
       "      <th>3</th>\n",
       "      <td>Angola</td>\n",
       "      <td>-2.918449</td>\n",
       "      <td>1.657255</td>\n",
       "      <td>0.971242</td>\n",
       "    </tr>\n",
       "    <tr>\n",
       "      <th>4</th>\n",
       "      <td>Antigua and Barbuda</td>\n",
       "      <td>1.469472</td>\n",
       "      <td>-0.618764</td>\n",
       "      <td>-0.592412</td>\n",
       "    </tr>\n",
       "  </tbody>\n",
       "</table>\n",
       "</div>"
      ],
      "text/plain": [
       "               country       PC1       PC2       PC3\n",
       "0          Afghanistan -3.410557  1.335314 -0.234486\n",
       "1              Albania -0.163978 -1.741221 -0.193250\n",
       "2              Algeria -0.868662 -0.816567  1.693218\n",
       "3               Angola -2.918449  1.657255  0.971242\n",
       "4  Antigua and Barbuda  1.469472 -0.618764 -0.592412"
      ]
     },
     "execution_count": 109,
     "metadata": {},
     "output_type": "execute_result"
    }
   ],
   "source": [
    "pcadf_country.head()"
   ]
  },
  {
   "cell_type": "code",
   "execution_count": 110,
   "metadata": {
    "scrolled": true
   },
   "outputs": [
    {
     "data": {
      "text/plain": [
       "(167, 4)"
      ]
     },
     "execution_count": 110,
     "metadata": {},
     "output_type": "execute_result"
    }
   ],
   "source": [
    "pcadf_country.shape"
   ]
  },
  {
   "cell_type": "markdown",
   "metadata": {},
   "source": [
    "# Clustering "
   ]
  },
  {
   "cell_type": "code",
   "execution_count": 111,
   "metadata": {},
   "outputs": [],
   "source": [
    "# copy data to new DataFrame\n",
    "\n",
    "pca_cleaned = pcadf_country.copy()\n",
    "# extract country from cleaned\n",
    "pca_cleaned_final=pca_cleaned.drop('country',axis=1)\n",
    "pca_cleaned_final_hierchy=pca_cleaned_final"
   ]
  },
  {
   "cell_type": "markdown",
   "metadata": {},
   "source": [
    "### Hopkins Statistics\n",
    "Hopkins Statistics help us to see how well the clusters are formed:\n",
    "\n",
    "- if value is between 0.01 - 0.3 : Low chase of clustering\n",
    "- if value is around 0.5 : Random\n",
    "- if value is between 0.7 - 0.99 : High chance of clustering"
   ]
  },
  {
   "cell_type": "code",
   "execution_count": 112,
   "metadata": {},
   "outputs": [],
   "source": [
    "from sklearn.neighbors import NearestNeighbors\n",
    "from random import sample\n",
    "from numpy.random import uniform\n",
    "import numpy as np\n",
    "from math import isnan\n",
    " \n",
    "def hopkins(X):\n",
    "    d = X.shape[1]\n",
    "    #d = len(vars) # columns\n",
    "    n = len(X) # rows\n",
    "    m = int(0.1 * n) \n",
    "    nbrs = NearestNeighbors(n_neighbors=1).fit(X.values)\n",
    " \n",
    "    rand_X = sample(range(0, n, 1), m)\n",
    " \n",
    "    ujd = []\n",
    "    wjd = []\n",
    "    for j in range(0, m):\n",
    "        u_dist, _ = nbrs.kneighbors(uniform(np.amin(X,axis=0),np.amax(X,axis=0),d).reshape(1, -1), 2, return_distance=True)\n",
    "        ujd.append(u_dist[0][1])\n",
    "        w_dist, _ = nbrs.kneighbors(X.iloc[rand_X[j]].values.reshape(1, -1), 2, return_distance=True)\n",
    "        wjd.append(w_dist[0][1])\n",
    " \n",
    "    H = sum(ujd) / (sum(ujd) + sum(wjd))\n",
    "    if isnan(H):\n",
    "        print(ujd, wjd)\n",
    "        H = 0\n",
    " \n",
    "    return H"
   ]
  },
  {
   "cell_type": "code",
   "execution_count": 113,
   "metadata": {},
   "outputs": [
    {
     "data": {
      "text/plain": [
       "0.7561863130344039"
      ]
     },
     "execution_count": 113,
     "metadata": {},
     "output_type": "execute_result"
    }
   ],
   "source": [
    "hopkins(pca_cleaned_final)"
   ]
  },
  {
   "cell_type": "markdown",
   "metadata": {},
   "source": [
    "``` Since the value is above 0.7 , there is a high chance of clustering to be formed ```"
   ]
  },
  {
   "cell_type": "markdown",
   "metadata": {},
   "source": [
    "## Applying K- Means clustering"
   ]
  },
  {
   "cell_type": "markdown",
   "metadata": {},
   "source": [
    "### Silhouette Analysis\n",
    "\n",
    "$$\\text{silhouette score}=\\frac{p-q}{max(p,q)}$$\n",
    "\n",
    "$p$ is the mean distance to the points in the nearest cluster that the data point is not a part of\n",
    "\n",
    "$q$ is the mean intra-cluster distance to all the points in its own cluster.\n",
    "\n",
    "* The value of the silhouette score range lies between -1 to 1. \n",
    "\n",
    "* A score closer to 1 indicates that the data point is very similar to other data points in the cluster, \n",
    "\n",
    "* A score closer to -1 indicates that the data point is not similar to the data points in its cluster."
   ]
  },
  {
   "cell_type": "code",
   "execution_count": 114,
   "metadata": {},
   "outputs": [],
   "source": [
    "#First we'll do the silhouette score analysis\n",
    "from sklearn.metrics import silhouette_score\n",
    "sse_ = []\n",
    "for k in range(2, 10):\n",
    "    kmeans = KMeans(n_clusters=k).fit(pca_cleaned_final)\n",
    "    sse_.append([k, silhouette_score(pca_cleaned_final, kmeans.labels_)])"
   ]
  },
  {
   "cell_type": "code",
   "execution_count": 115,
   "metadata": {
    "scrolled": true
   },
   "outputs": [
    {
     "data": {
      "image/png": "[encoded data removed]",
      "text/plain": [
       "<Figure size 432x288 with 1 Axes>"
      ]
     },
     "metadata": {
      "needs_background": "light"
     },
     "output_type": "display_data"
    }
   ],
   "source": [
    "# Plotting \n",
    "plt.plot(pd.DataFrame(sse_)[0], pd.DataFrame(sse_)[1])\n",
    "plt.grid()\n",
    "plt.show();"
   ]
  },
  {
   "cell_type": "markdown",
   "metadata": {},
   "source": [
    "### Look at the Elbow Curve plot and choose the optimal number of cluster"
   ]
  },
  {
   "cell_type": "code",
   "execution_count": 116,
   "metadata": {
    "scrolled": false
   },
   "outputs": [
    {
     "data": {
      "image/png": "[encoded data removed]",
      "text/plain": [
       "<Figure size 432x288 with 1 Axes>"
      ]
     },
     "metadata": {
      "needs_background": "light"
     },
     "output_type": "display_data"
    }
   ],
   "source": [
    "ssd = []\n",
    "for k in range(2,10):\n",
    "    kmeans = KMeans(n_clusters = k).fit(pca_cleaned_final)\n",
    "    ssd.append([k, kmeans.inertia_])\n",
    "plt.plot(pd.DataFrame(ssd)[0], pd.DataFrame(ssd)[1]);"
   ]
  },
  {
   "cell_type": "markdown",
   "metadata": {},
   "source": [
    "``` **Both Silhouette Analysis and Elbow Curve ** shows 3 clusters a good choice to work on it```"
   ]
  },
  {
   "cell_type": "markdown",
   "metadata": {},
   "source": [
    "### KMeans with the K the we have choosed"
   ]
  },
  {
   "cell_type": "markdown",
   "metadata": {},
   "source": [
    "- We will use three k=3 and also k=4 to see the results"
   ]
  },
  {
   "cell_type": "code",
   "execution_count": 117,
   "metadata": {},
   "outputs": [],
   "source": [
    "# Save data for K=4\n",
    "pca_cleaned_final4=pca_cleaned_final.copy()"
   ]
  },
  {
   "cell_type": "markdown",
   "metadata": {},
   "source": [
    "### Kmeans k=3"
   ]
  },
  {
   "cell_type": "code",
   "execution_count": 118,
   "metadata": {},
   "outputs": [],
   "source": [
    "from sklearn.cluster import KMeans"
   ]
  },
  {
   "cell_type": "code",
   "execution_count": 119,
   "metadata": {},
   "outputs": [],
   "source": [
    "# Applying Kmeans with K=3\n",
    "pca_cleaned_final_kmeans = KMeans(n_clusters = 3, max_iter=50, random_state=50)\n",
    "pca_cleaned_final_kmeans.fit(pca_cleaned_final);"
   ]
  },
  {
   "cell_type": "code",
   "execution_count": 120,
   "metadata": {},
   "outputs": [
    {
     "data": {
      "text/html": [
       "<div>\n",
       "<style scoped>\n",
       "    .dataframe tbody tr th:only-of-type {\n",
       "        vertical-align: middle;\n",
       "    }\n",
       "\n",
       "    .dataframe tbody tr th {\n",
       "        vertical-align: top;\n",
       "    }\n",
       "\n",
       "    .dataframe thead th {\n",
       "        text-align: right;\n",
       "    }\n",
       "</style>\n",
       "<table border=\"1\" class=\"dataframe\">\n",
       "  <thead>\n",
       "    <tr style=\"text-align: right;\">\n",
       "      <th></th>\n",
       "      <th>country</th>\n",
       "      <th>PC1</th>\n",
       "      <th>PC2</th>\n",
       "      <th>PC3</th>\n",
       "      <th>ClusterID</th>\n",
       "    </tr>\n",
       "  </thead>\n",
       "  <tbody>\n",
       "    <tr>\n",
       "      <th>0</th>\n",
       "      <td>Afghanistan</td>\n",
       "      <td>-3.410557</td>\n",
       "      <td>1.335314</td>\n",
       "      <td>-0.234486</td>\n",
       "      <td>1</td>\n",
       "    </tr>\n",
       "    <tr>\n",
       "      <th>1</th>\n",
       "      <td>Albania</td>\n",
       "      <td>-0.163978</td>\n",
       "      <td>-1.741221</td>\n",
       "      <td>-0.193250</td>\n",
       "      <td>2</td>\n",
       "    </tr>\n",
       "    <tr>\n",
       "      <th>2</th>\n",
       "      <td>Algeria</td>\n",
       "      <td>-0.868662</td>\n",
       "      <td>-0.816567</td>\n",
       "      <td>1.693218</td>\n",
       "      <td>2</td>\n",
       "    </tr>\n",
       "    <tr>\n",
       "      <th>3</th>\n",
       "      <td>Angola</td>\n",
       "      <td>-2.918449</td>\n",
       "      <td>1.657255</td>\n",
       "      <td>0.971242</td>\n",
       "      <td>1</td>\n",
       "    </tr>\n",
       "    <tr>\n",
       "      <th>4</th>\n",
       "      <td>Antigua and Barbuda</td>\n",
       "      <td>1.469472</td>\n",
       "      <td>-0.618764</td>\n",
       "      <td>-0.592412</td>\n",
       "      <td>2</td>\n",
       "    </tr>\n",
       "  </tbody>\n",
       "</table>\n",
       "</div>"
      ],
      "text/plain": [
       "               country       PC1       PC2       PC3  ClusterID\n",
       "0          Afghanistan -3.410557  1.335314 -0.234486          1\n",
       "1              Albania -0.163978 -1.741221 -0.193250          2\n",
       "2              Algeria -0.868662 -0.816567  1.693218          2\n",
       "3               Angola -2.918449  1.657255  0.971242          1\n",
       "4  Antigua and Barbuda  1.469472 -0.618764 -0.592412          2"
      ]
     },
     "execution_count": 120,
     "metadata": {},
     "output_type": "execute_result"
    }
   ],
   "source": [
    "pca_cleaned_final_km=pd.concat([pca_cleaned.reset_index().drop('index',axis=1),pd.Series(pca_cleaned_final_kmeans.labels_).reset_index().drop('index',axis=1)],axis=1)\n",
    "pca_cleaned_final_km.columns=['country','PC1','PC2','PC3','ClusterID']\n",
    "pca_cleaned_final_km.head()"
   ]
  },
  {
   "cell_type": "code",
   "execution_count": 121,
   "metadata": {
    "scrolled": true
   },
   "outputs": [
    {
     "data": {
      "image/png": "[encoded data removed]",
      "text/plain": [
       "<Figure size 432x288 with 1 Axes>"
      ]
     },
     "metadata": {
      "needs_background": "light"
     },
     "output_type": "display_data"
    }
   ],
   "source": [
    "# check count for each cluster\n",
    "pca_cleaned_final_km['ClusterID'].value_counts().plot(kind='bar');"
   ]
  },
  {
   "cell_type": "code",
   "execution_count": 122,
   "metadata": {
    "scrolled": false
   },
   "outputs": [
    {
     "data": {
      "image/png": "[encoded data removed]",
      "text/plain": [
       "<Figure size 432x288 with 1 Axes>"
      ]
     },
     "metadata": {
      "needs_background": "light"
     },
     "output_type": "display_data"
    }
   ],
   "source": [
    "# Plotting \n",
    "sns.scatterplot(x='PC1',y='PC2',hue='ClusterID',data=pca_cleaned_final_km,palette='Set1');"
   ]
  },
  {
   "cell_type": "markdown",
   "metadata": {},
   "source": [
    "# Kmeans with K=4\n"
   ]
  },
  {
   "cell_type": "code",
   "execution_count": 123,
   "metadata": {},
   "outputs": [],
   "source": [
    "# Applying Kmeans with K=4\n",
    "pca_cleaned_final_kmeans4 = KMeans(n_clusters = 4, max_iter=50)\n",
    "pca_cleaned_final_kmeans4.fit(pca_cleaned_final4);"
   ]
  },
  {
   "cell_type": "code",
   "execution_count": 124,
   "metadata": {
    "scrolled": true
   },
   "outputs": [
    {
     "data": {
      "text/html": [
       "<div>\n",
       "<style scoped>\n",
       "    .dataframe tbody tr th:only-of-type {\n",
       "        vertical-align: middle;\n",
       "    }\n",
       "\n",
       "    .dataframe tbody tr th {\n",
       "        vertical-align: top;\n",
       "    }\n",
       "\n",
       "    .dataframe thead th {\n",
       "        text-align: right;\n",
       "    }\n",
       "</style>\n",
       "<table border=\"1\" class=\"dataframe\">\n",
       "  <thead>\n",
       "    <tr style=\"text-align: right;\">\n",
       "      <th></th>\n",
       "      <th>country</th>\n",
       "      <th>PC1</th>\n",
       "      <th>PC2</th>\n",
       "      <th>PC3</th>\n",
       "      <th>ClusterID</th>\n",
       "    </tr>\n",
       "  </thead>\n",
       "  <tbody>\n",
       "    <tr>\n",
       "      <th>0</th>\n",
       "      <td>Afghanistan</td>\n",
       "      <td>-3.410557</td>\n",
       "      <td>1.335314</td>\n",
       "      <td>-0.234486</td>\n",
       "      <td>2</td>\n",
       "    </tr>\n",
       "    <tr>\n",
       "      <th>1</th>\n",
       "      <td>Albania</td>\n",
       "      <td>-0.163978</td>\n",
       "      <td>-1.741221</td>\n",
       "      <td>-0.193250</td>\n",
       "      <td>3</td>\n",
       "    </tr>\n",
       "    <tr>\n",
       "      <th>2</th>\n",
       "      <td>Algeria</td>\n",
       "      <td>-0.868662</td>\n",
       "      <td>-0.816567</td>\n",
       "      <td>1.693218</td>\n",
       "      <td>1</td>\n",
       "    </tr>\n",
       "    <tr>\n",
       "      <th>3</th>\n",
       "      <td>Angola</td>\n",
       "      <td>-2.918449</td>\n",
       "      <td>1.657255</td>\n",
       "      <td>0.971242</td>\n",
       "      <td>2</td>\n",
       "    </tr>\n",
       "    <tr>\n",
       "      <th>4</th>\n",
       "      <td>Antigua and Barbuda</td>\n",
       "      <td>1.469472</td>\n",
       "      <td>-0.618764</td>\n",
       "      <td>-0.592412</td>\n",
       "      <td>3</td>\n",
       "    </tr>\n",
       "  </tbody>\n",
       "</table>\n",
       "</div>"
      ],
      "text/plain": [
       "               country       PC1       PC2       PC3  ClusterID\n",
       "0          Afghanistan -3.410557  1.335314 -0.234486          2\n",
       "1              Albania -0.163978 -1.741221 -0.193250          3\n",
       "2              Algeria -0.868662 -0.816567  1.693218          1\n",
       "3               Angola -2.918449  1.657255  0.971242          2\n",
       "4  Antigua and Barbuda  1.469472 -0.618764 -0.592412          3"
      ]
     },
     "execution_count": 124,
     "metadata": {},
     "output_type": "execute_result"
    }
   ],
   "source": [
    "pca_cleaned_final_km4=pd.concat([pca_cleaned.reset_index().drop('index',axis=1),pd.Series(pca_cleaned_final_kmeans4.labels_).reset_index().drop('index',axis=1)],axis=1)\n",
    "pca_cleaned_final_km4.columns=['country','PC1','PC2','PC3','ClusterID']\n",
    "pca_cleaned_final_km4.head()"
   ]
  },
  {
   "cell_type": "code",
   "execution_count": 125,
   "metadata": {},
   "outputs": [
    {
     "data": {
      "image/png": "[encoded data removed]",
      "text/plain": [
       "<Figure size 432x288 with 1 Axes>"
      ]
     },
     "metadata": {
      "needs_background": "light"
     },
     "output_type": "display_data"
    }
   ],
   "source": [
    "# check count for each cluster\n",
    "pca_cleaned_final_km4['ClusterID'].value_counts().plot(kind='bar');"
   ]
  },
  {
   "cell_type": "code",
   "execution_count": 126,
   "metadata": {
    "scrolled": true
   },
   "outputs": [
    {
     "data": {
      "image/png": "[encoded data removed]",
      "text/plain": [
       "<Figure size 432x288 with 1 Axes>"
      ]
     },
     "metadata": {
      "needs_background": "light"
     },
     "output_type": "display_data"
    }
   ],
   "source": [
    "# Plotting \n",
    "sns.scatterplot(x='PC1',y='PC2',hue='ClusterID',data=pca_cleaned_final_km4,palette='Set1');"
   ]
  },
  {
   "cell_type": "markdown",
   "metadata": {},
   "source": [
    "# Result\n",
    "### Kmeans with 4 clusters are not very optimum. So we will go with Kmeans k=3"
   ]
  },
  {
   "cell_type": "markdown",
   "metadata": {},
   "source": [
    "# Clustere Profiling"
   ]
  },
  {
   "cell_type": "code",
   "execution_count": 127,
   "metadata": {
    "scrolled": true
   },
   "outputs": [
    {
     "data": {
      "text/plain": [
       "0"
      ]
     },
     "execution_count": 127,
     "metadata": {},
     "output_type": "execute_result"
    }
   ],
   "source": [
    "# checking for duplicate countries\n",
    "pca_cleaned_final_km.duplicated().sum()"
   ]
  },
  {
   "cell_type": "code",
   "execution_count": 128,
   "metadata": {
    "scrolled": true
   },
   "outputs": [
    {
     "data": {
      "text/html": [
       "<div>\n",
       "<style scoped>\n",
       "    .dataframe tbody tr th:only-of-type {\n",
       "        vertical-align: middle;\n",
       "    }\n",
       "\n",
       "    .dataframe tbody tr th {\n",
       "        vertical-align: top;\n",
       "    }\n",
       "\n",
       "    .dataframe thead th {\n",
       "        text-align: right;\n",
       "    }\n",
       "</style>\n",
       "<table border=\"1\" class=\"dataframe\">\n",
       "  <thead>\n",
       "    <tr style=\"text-align: right;\">\n",
       "      <th></th>\n",
       "      <th>ClusterID</th>\n",
       "      <th>country</th>\n",
       "      <th>child_mort</th>\n",
       "      <th>exports</th>\n",
       "      <th>health</th>\n",
       "      <th>imports</th>\n",
       "      <th>income</th>\n",
       "      <th>inflation</th>\n",
       "      <th>life_expec</th>\n",
       "      <th>total_fer</th>\n",
       "      <th>gdpp</th>\n",
       "    </tr>\n",
       "  </thead>\n",
       "  <tbody>\n",
       "    <tr>\n",
       "      <th>0</th>\n",
       "      <td>1</td>\n",
       "      <td>Afghanistan</td>\n",
       "      <td>88.31</td>\n",
       "      <td>55.30</td>\n",
       "      <td>41.9174</td>\n",
       "      <td>248.297</td>\n",
       "      <td>1610.0</td>\n",
       "      <td>9.44</td>\n",
       "      <td>56.2</td>\n",
       "      <td>5.023</td>\n",
       "      <td>553.0</td>\n",
       "    </tr>\n",
       "    <tr>\n",
       "      <th>1</th>\n",
       "      <td>2</td>\n",
       "      <td>Albania</td>\n",
       "      <td>16.60</td>\n",
       "      <td>1145.20</td>\n",
       "      <td>267.8950</td>\n",
       "      <td>1987.740</td>\n",
       "      <td>9930.0</td>\n",
       "      <td>4.49</td>\n",
       "      <td>76.3</td>\n",
       "      <td>1.650</td>\n",
       "      <td>4090.0</td>\n",
       "    </tr>\n",
       "    <tr>\n",
       "      <th>2</th>\n",
       "      <td>2</td>\n",
       "      <td>Algeria</td>\n",
       "      <td>27.30</td>\n",
       "      <td>1712.64</td>\n",
       "      <td>185.9820</td>\n",
       "      <td>1400.440</td>\n",
       "      <td>12900.0</td>\n",
       "      <td>15.33</td>\n",
       "      <td>76.5</td>\n",
       "      <td>2.890</td>\n",
       "      <td>4460.0</td>\n",
       "    </tr>\n",
       "    <tr>\n",
       "      <th>3</th>\n",
       "      <td>1</td>\n",
       "      <td>Angola</td>\n",
       "      <td>88.31</td>\n",
       "      <td>2199.19</td>\n",
       "      <td>100.6050</td>\n",
       "      <td>1514.370</td>\n",
       "      <td>5900.0</td>\n",
       "      <td>15.33</td>\n",
       "      <td>60.1</td>\n",
       "      <td>5.023</td>\n",
       "      <td>3530.0</td>\n",
       "    </tr>\n",
       "    <tr>\n",
       "      <th>4</th>\n",
       "      <td>2</td>\n",
       "      <td>Antigua and Barbuda</td>\n",
       "      <td>10.30</td>\n",
       "      <td>5551.00</td>\n",
       "      <td>735.6600</td>\n",
       "      <td>7185.800</td>\n",
       "      <td>19100.0</td>\n",
       "      <td>1.44</td>\n",
       "      <td>76.8</td>\n",
       "      <td>2.130</td>\n",
       "      <td>12200.0</td>\n",
       "    </tr>\n",
       "  </tbody>\n",
       "</table>\n",
       "</div>"
      ],
      "text/plain": [
       "   ClusterID              country  child_mort  exports    health   imports  \\\n",
       "0          1          Afghanistan       88.31    55.30   41.9174   248.297   \n",
       "1          2              Albania       16.60  1145.20  267.8950  1987.740   \n",
       "2          2              Algeria       27.30  1712.64  185.9820  1400.440   \n",
       "3          1               Angola       88.31  2199.19  100.6050  1514.370   \n",
       "4          2  Antigua and Barbuda       10.30  5551.00  735.6600  7185.800   \n",
       "\n",
       "    income  inflation  life_expec  total_fer     gdpp  \n",
       "0   1610.0       9.44        56.2      5.023    553.0  \n",
       "1   9930.0       4.49        76.3      1.650   4090.0  \n",
       "2  12900.0      15.33        76.5      2.890   4460.0  \n",
       "3   5900.0      15.33        60.1      5.023   3530.0  \n",
       "4  19100.0       1.44        76.8      2.130  12200.0  "
      ]
     },
     "execution_count": 128,
     "metadata": {},
     "output_type": "execute_result"
    }
   ],
   "source": [
    "# Merging both data sets\n",
    "pca_cleaned_final_merg = pd.merge(pca_cleaned_final_km[['ClusterID','country']],countryDf,on='country',how='inner')\n",
    "pca_cleaned_final_merg.head()"
   ]
  },
  {
   "cell_type": "markdown",
   "metadata": {},
   "source": [
    "### Analysing of clusters\n",
    "- Since we need to find countries that need aid, we will look and analysis the gdpp, child_mort, and income of each country\n",
    "- We will calculate the average of each of the above for each cluster"
   ]
  },
  {
   "cell_type": "code",
   "execution_count": 129,
   "metadata": {
    "scrolled": true
   },
   "outputs": [
    {
     "data": {
      "text/html": [
       "<div>\n",
       "<style scoped>\n",
       "    .dataframe tbody tr th:only-of-type {\n",
       "        vertical-align: middle;\n",
       "    }\n",
       "\n",
       "    .dataframe tbody tr th {\n",
       "        vertical-align: top;\n",
       "    }\n",
       "\n",
       "    .dataframe thead th {\n",
       "        text-align: right;\n",
       "    }\n",
       "</style>\n",
       "<table border=\"1\" class=\"dataframe\">\n",
       "  <thead>\n",
       "    <tr style=\"text-align: right;\">\n",
       "      <th></th>\n",
       "      <th>gdpp</th>\n",
       "      <th>child_mort</th>\n",
       "      <th>income</th>\n",
       "    </tr>\n",
       "    <tr>\n",
       "      <th>ClusterID</th>\n",
       "      <th></th>\n",
       "      <th></th>\n",
       "      <th></th>\n",
       "    </tr>\n",
       "  </thead>\n",
       "  <tbody>\n",
       "    <tr>\n",
       "      <th>0</th>\n",
       "      <td>26717.045455</td>\n",
       "      <td>6.072727</td>\n",
       "      <td>32427.272727</td>\n",
       "    </tr>\n",
       "    <tr>\n",
       "      <th>1</th>\n",
       "      <td>1861.476078</td>\n",
       "      <td>75.775490</td>\n",
       "      <td>3877.974902</td>\n",
       "    </tr>\n",
       "    <tr>\n",
       "      <th>2</th>\n",
       "      <td>5658.277778</td>\n",
       "      <td>21.552778</td>\n",
       "      <td>11197.916667</td>\n",
       "    </tr>\n",
       "  </tbody>\n",
       "</table>\n",
       "</div>"
      ],
      "text/plain": [
       "                   gdpp  child_mort        income\n",
       "ClusterID                                        \n",
       "0          26717.045455    6.072727  32427.272727\n",
       "1           1861.476078   75.775490   3877.974902\n",
       "2           5658.277778   21.552778  11197.916667"
      ]
     },
     "execution_count": 129,
     "metadata": {},
     "output_type": "execute_result"
    }
   ],
   "source": [
    "# Getting the average (mean) for each cluster\n",
    "pca_cleaned_final_merg.drop('country',axis=1).groupby('ClusterID')[['gdpp','child_mort','income']].mean()"
   ]
  },
  {
   "cell_type": "code",
   "execution_count": 130,
   "metadata": {
    "scrolled": false
   },
   "outputs": [
    {
     "data": {
      "image/png": "[encoded data removed]",
      "text/plain": [
       "<Figure size 432x288 with 1 Axes>"
      ]
     },
     "metadata": {
      "needs_background": "light"
     },
     "output_type": "display_data"
    },
    {
     "data": {
      "image/png": "[encoded data removed]",
      "text/plain": [
       "<Figure size 432x288 with 1 Axes>"
      ]
     },
     "metadata": {
      "needs_background": "light"
     },
     "output_type": "display_data"
    },
    {
     "data": {
      "image/png": "[encoded data removed]",
      "text/plain": [
       "<Figure size 432x288 with 1 Axes>"
      ]
     },
     "metadata": {
      "needs_background": "light"
     },
     "output_type": "display_data"
    }
   ],
   "source": [
    "# Plotting the above per cluter\n",
    "pca_cleaned_final_merg.drop('country',axis=1).groupby('ClusterID')[['gdpp']].mean().plot(kind='bar')\n",
    "pca_cleaned_final_merg.drop('country',axis=1).groupby('ClusterID')[['child_mort']].mean().plot(kind='bar')\n",
    "pca_cleaned_final_merg.drop('country',axis=1).groupby('ClusterID')[['income']].mean().plot(kind='bar');"
   ]
  },
  {
   "cell_type": "code",
   "execution_count": 131,
   "metadata": {},
   "outputs": [
    {
     "data": {
      "image/png": "[encoded data removed]",
      "text/plain": [
       "<Figure size 1440x432 with 3 Axes>"
      ]
     },
     "metadata": {
      "needs_background": "light"
     },
     "output_type": "display_data"
    }
   ],
   "source": [
    "# and if we plot a boxplot that will show more clearly that low and higher clusters\n",
    "plt.figure(figsize=(20,6))\n",
    "for i in enumerate(['gdpp','child_mort','income']):\n",
    "    plt.subplot(1,3,i[0]+1)\n",
    "    sns.boxplot(x='ClusterID',y=i[1],data=pca_cleaned_final_merg)"
   ]
  },
  {
   "cell_type": "markdown",
   "metadata": {},
   "source": [
    "## Assumption\n",
    "- ##### Cluster 1 is countries that have very low GDP about 1861, high mortality rate =78, and low income of about 3878.\n",
    "- ##### So our target countries that will need aid from HELP international would fall under cluster 1"
   ]
  },
  {
   "cell_type": "markdown",
   "metadata": {},
   "source": [
    "### Listing countries under cluster 1"
   ]
  },
  {
   "cell_type": "code",
   "execution_count": 132,
   "metadata": {
    "scrolled": true
   },
   "outputs": [
    {
     "name": "stdout",
     "output_type": "stream",
     "text": [
      "['Afghanistan' 'Angola' 'Benin' 'Botswana' 'Burkina Faso' 'Burundi'\n",
      " 'Cameroon' 'Central African Republic' 'Chad' 'Comoros' 'Congo, Dem. Rep.'\n",
      " 'Congo, Rep.' \"Cote d'Ivoire\" 'Equatorial Guinea' 'Eritrea' 'Gabon'\n",
      " 'Gambia' 'Ghana' 'Guinea' 'Guinea-Bissau' 'Haiti' 'India' 'Iraq' 'Kenya'\n",
      " 'Kiribati' 'Lao' 'Lesotho' 'Liberia' 'Madagascar' 'Malawi' 'Mali'\n",
      " 'Mauritania' 'Mozambique' 'Myanmar' 'Namibia' 'Niger' 'Nigeria'\n",
      " 'Pakistan' 'Rwanda' 'Senegal' 'Sierra Leone' 'Solomon Islands'\n",
      " 'South Africa' 'Sudan' 'Tajikistan' 'Tanzania' 'Timor-Leste' 'Togo'\n",
      " 'Uganda' 'Yemen' 'Zambia']\n",
      "51\n"
     ]
    }
   ],
   "source": [
    "print(pca_cleaned_final_merg[pca_cleaned_final_merg.ClusterID==1]['country'].values)\n",
    "print(len(pca_cleaned_final_merg[pca_cleaned_final_merg.ClusterID==1]['country'].values))"
   ]
  },
  {
   "cell_type": "markdown",
   "metadata": {},
   "source": [
    "# Hierarchical clustering"
   ]
  },
  {
   "cell_type": "code",
   "execution_count": 133,
   "metadata": {},
   "outputs": [],
   "source": [
    "from scipy.cluster.hierarchy import linkage\n",
    "from scipy.cluster.hierarchy import dendrogram\n",
    "from scipy.cluster.hierarchy import cut_tree"
   ]
  },
  {
   "cell_type": "markdown",
   "metadata": {},
   "source": [
    "- ### Single clustering\n"
   ]
  },
  {
   "cell_type": "code",
   "execution_count": 134,
   "metadata": {
    "scrolled": false
   },
   "outputs": [
    {
     "data": {
      "image/png": "[encoded data removed]",
      "text/plain": [
       "<Figure size 1440x720 with 1 Axes>"
      ]
     },
     "metadata": {
      "needs_background": "light"
     },
     "output_type": "display_data"
    }
   ],
   "source": [
    "plt.figure(figsize = (20,10))\n",
    "mergings1 = linkage(pca_cleaned_final_hierchy, method = \"single\", metric='euclidean')\n",
    "dendrogram(mergings1)\n",
    "plt.show()"
   ]
  },
  {
   "cell_type": "code",
   "execution_count": 135,
   "metadata": {
    "scrolled": true
   },
   "outputs": [
    {
     "data": {
      "text/html": [
       "<div>\n",
       "<style scoped>\n",
       "    .dataframe tbody tr th:only-of-type {\n",
       "        vertical-align: middle;\n",
       "    }\n",
       "\n",
       "    .dataframe tbody tr th {\n",
       "        vertical-align: top;\n",
       "    }\n",
       "\n",
       "    .dataframe thead th {\n",
       "        text-align: right;\n",
       "    }\n",
       "</style>\n",
       "<table border=\"1\" class=\"dataframe\">\n",
       "  <thead>\n",
       "    <tr style=\"text-align: right;\">\n",
       "      <th></th>\n",
       "      <th>PC1</th>\n",
       "      <th>PC2</th>\n",
       "      <th>PC3</th>\n",
       "      <th>ClusterID</th>\n",
       "    </tr>\n",
       "  </thead>\n",
       "  <tbody>\n",
       "    <tr>\n",
       "      <th>0</th>\n",
       "      <td>-3.410557</td>\n",
       "      <td>1.335314</td>\n",
       "      <td>-0.234486</td>\n",
       "      <td>0</td>\n",
       "    </tr>\n",
       "    <tr>\n",
       "      <th>1</th>\n",
       "      <td>-0.163978</td>\n",
       "      <td>-1.741221</td>\n",
       "      <td>-0.193250</td>\n",
       "      <td>0</td>\n",
       "    </tr>\n",
       "    <tr>\n",
       "      <th>2</th>\n",
       "      <td>-0.868662</td>\n",
       "      <td>-0.816567</td>\n",
       "      <td>1.693218</td>\n",
       "      <td>0</td>\n",
       "    </tr>\n",
       "    <tr>\n",
       "      <th>3</th>\n",
       "      <td>-2.918449</td>\n",
       "      <td>1.657255</td>\n",
       "      <td>0.971242</td>\n",
       "      <td>0</td>\n",
       "    </tr>\n",
       "    <tr>\n",
       "      <th>4</th>\n",
       "      <td>1.469472</td>\n",
       "      <td>-0.618764</td>\n",
       "      <td>-0.592412</td>\n",
       "      <td>0</td>\n",
       "    </tr>\n",
       "  </tbody>\n",
       "</table>\n",
       "</div>"
      ],
      "text/plain": [
       "        PC1       PC2       PC3  ClusterID\n",
       "0 -3.410557  1.335314 -0.234486          0\n",
       "1 -0.163978 -1.741221 -0.193250          0\n",
       "2 -0.868662 -0.816567  1.693218          0\n",
       "3 -2.918449  1.657255  0.971242          0\n",
       "4  1.469472 -0.618764 -0.592412          0"
      ]
     },
     "execution_count": 135,
     "metadata": {},
     "output_type": "execute_result"
    }
   ],
   "source": [
    "clusterCut1 = pd.Series(cut_tree(mergings1, n_clusters = 4).reshape(-1,))\n",
    "pca_cleaned_final_h1 = pd.concat([pca_cleaned_final_hierchy, clusterCut1], axis=1)\n",
    "pca_cleaned_final_h1.columns = [\"PC1\",\"PC2\",\"PC3\",\"ClusterID\"]\n",
    "pca_cleaned_final_h1.head()"
   ]
  },
  {
   "cell_type": "code",
   "execution_count": 136,
   "metadata": {
    "scrolled": true
   },
   "outputs": [
    {
     "data": {
      "text/html": [
       "<div>\n",
       "<style scoped>\n",
       "    .dataframe tbody tr th:only-of-type {\n",
       "        vertical-align: middle;\n",
       "    }\n",
       "\n",
       "    .dataframe tbody tr th {\n",
       "        vertical-align: top;\n",
       "    }\n",
       "\n",
       "    .dataframe thead th {\n",
       "        text-align: right;\n",
       "    }\n",
       "</style>\n",
       "<table border=\"1\" class=\"dataframe\">\n",
       "  <thead>\n",
       "    <tr style=\"text-align: right;\">\n",
       "      <th></th>\n",
       "      <th>country</th>\n",
       "      <th>PC1</th>\n",
       "      <th>PC2</th>\n",
       "      <th>PC3</th>\n",
       "      <th>ClusterID</th>\n",
       "    </tr>\n",
       "  </thead>\n",
       "  <tbody>\n",
       "    <tr>\n",
       "      <th>0</th>\n",
       "      <td>Afghanistan</td>\n",
       "      <td>-3.410557</td>\n",
       "      <td>1.335314</td>\n",
       "      <td>-0.234486</td>\n",
       "      <td>0</td>\n",
       "    </tr>\n",
       "    <tr>\n",
       "      <th>1</th>\n",
       "      <td>Albania</td>\n",
       "      <td>-0.163978</td>\n",
       "      <td>-1.741221</td>\n",
       "      <td>-0.193250</td>\n",
       "      <td>0</td>\n",
       "    </tr>\n",
       "    <tr>\n",
       "      <th>2</th>\n",
       "      <td>Algeria</td>\n",
       "      <td>-0.868662</td>\n",
       "      <td>-0.816567</td>\n",
       "      <td>1.693218</td>\n",
       "      <td>0</td>\n",
       "    </tr>\n",
       "    <tr>\n",
       "      <th>3</th>\n",
       "      <td>Angola</td>\n",
       "      <td>-2.918449</td>\n",
       "      <td>1.657255</td>\n",
       "      <td>0.971242</td>\n",
       "      <td>0</td>\n",
       "    </tr>\n",
       "    <tr>\n",
       "      <th>4</th>\n",
       "      <td>Antigua and Barbuda</td>\n",
       "      <td>1.469472</td>\n",
       "      <td>-0.618764</td>\n",
       "      <td>-0.592412</td>\n",
       "      <td>0</td>\n",
       "    </tr>\n",
       "  </tbody>\n",
       "</table>\n",
       "</div>"
      ],
      "text/plain": [
       "               country       PC1       PC2       PC3  ClusterID\n",
       "0          Afghanistan -3.410557  1.335314 -0.234486          0\n",
       "1              Albania -0.163978 -1.741221 -0.193250          0\n",
       "2              Algeria -0.868662 -0.816567  1.693218          0\n",
       "3               Angola -2.918449  1.657255  0.971242          0\n",
       "4  Antigua and Barbuda  1.469472 -0.618764 -0.592412          0"
      ]
     },
     "execution_count": 136,
     "metadata": {},
     "output_type": "execute_result"
    }
   ],
   "source": [
    "# Merging data set\n",
    "pca_cleaned_final_hc1 = pd.concat([countryDf['country'],pca_cleaned_final_h1], axis=1, join='outer', join_axes=None, ignore_index=False, keys=None, levels=None, names=None, verify_integrity=False, sort=None, copy=True)\n",
    "pca_cleaned_final_hc1.head()"
   ]
  },
  {
   "cell_type": "code",
   "execution_count": 137,
   "metadata": {
    "scrolled": true
   },
   "outputs": [
    {
     "data": {
      "text/html": [
       "<div>\n",
       "<style scoped>\n",
       "    .dataframe tbody tr th:only-of-type {\n",
       "        vertical-align: middle;\n",
       "    }\n",
       "\n",
       "    .dataframe tbody tr th {\n",
       "        vertical-align: top;\n",
       "    }\n",
       "\n",
       "    .dataframe thead th {\n",
       "        text-align: right;\n",
       "    }\n",
       "</style>\n",
       "<table border=\"1\" class=\"dataframe\">\n",
       "  <thead>\n",
       "    <tr style=\"text-align: right;\">\n",
       "      <th></th>\n",
       "      <th>country</th>\n",
       "      <th>ClusterID</th>\n",
       "      <th>child_mort</th>\n",
       "      <th>exports</th>\n",
       "      <th>health</th>\n",
       "      <th>imports</th>\n",
       "      <th>income</th>\n",
       "      <th>inflation</th>\n",
       "      <th>life_expec</th>\n",
       "      <th>total_fer</th>\n",
       "      <th>gdpp</th>\n",
       "    </tr>\n",
       "  </thead>\n",
       "  <tbody>\n",
       "    <tr>\n",
       "      <th>0</th>\n",
       "      <td>Afghanistan</td>\n",
       "      <td>0</td>\n",
       "      <td>88.31</td>\n",
       "      <td>55.30</td>\n",
       "      <td>41.9174</td>\n",
       "      <td>248.297</td>\n",
       "      <td>1610.0</td>\n",
       "      <td>9.44</td>\n",
       "      <td>56.2</td>\n",
       "      <td>5.023</td>\n",
       "      <td>553.0</td>\n",
       "    </tr>\n",
       "    <tr>\n",
       "      <th>1</th>\n",
       "      <td>Albania</td>\n",
       "      <td>0</td>\n",
       "      <td>16.60</td>\n",
       "      <td>1145.20</td>\n",
       "      <td>267.8950</td>\n",
       "      <td>1987.740</td>\n",
       "      <td>9930.0</td>\n",
       "      <td>4.49</td>\n",
       "      <td>76.3</td>\n",
       "      <td>1.650</td>\n",
       "      <td>4090.0</td>\n",
       "    </tr>\n",
       "    <tr>\n",
       "      <th>2</th>\n",
       "      <td>Algeria</td>\n",
       "      <td>0</td>\n",
       "      <td>27.30</td>\n",
       "      <td>1712.64</td>\n",
       "      <td>185.9820</td>\n",
       "      <td>1400.440</td>\n",
       "      <td>12900.0</td>\n",
       "      <td>15.33</td>\n",
       "      <td>76.5</td>\n",
       "      <td>2.890</td>\n",
       "      <td>4460.0</td>\n",
       "    </tr>\n",
       "    <tr>\n",
       "      <th>3</th>\n",
       "      <td>Angola</td>\n",
       "      <td>0</td>\n",
       "      <td>88.31</td>\n",
       "      <td>2199.19</td>\n",
       "      <td>100.6050</td>\n",
       "      <td>1514.370</td>\n",
       "      <td>5900.0</td>\n",
       "      <td>15.33</td>\n",
       "      <td>60.1</td>\n",
       "      <td>5.023</td>\n",
       "      <td>3530.0</td>\n",
       "    </tr>\n",
       "    <tr>\n",
       "      <th>4</th>\n",
       "      <td>Antigua and Barbuda</td>\n",
       "      <td>0</td>\n",
       "      <td>10.30</td>\n",
       "      <td>5551.00</td>\n",
       "      <td>735.6600</td>\n",
       "      <td>7185.800</td>\n",
       "      <td>19100.0</td>\n",
       "      <td>1.44</td>\n",
       "      <td>76.8</td>\n",
       "      <td>2.130</td>\n",
       "      <td>12200.0</td>\n",
       "    </tr>\n",
       "  </tbody>\n",
       "</table>\n",
       "</div>"
      ],
      "text/plain": [
       "               country  ClusterID  child_mort  exports    health   imports  \\\n",
       "0          Afghanistan          0       88.31    55.30   41.9174   248.297   \n",
       "1              Albania          0       16.60  1145.20  267.8950  1987.740   \n",
       "2              Algeria          0       27.30  1712.64  185.9820  1400.440   \n",
       "3               Angola          0       88.31  2199.19  100.6050  1514.370   \n",
       "4  Antigua and Barbuda          0       10.30  5551.00  735.6600  7185.800   \n",
       "\n",
       "    income  inflation  life_expec  total_fer     gdpp  \n",
       "0   1610.0       9.44        56.2      5.023    553.0  \n",
       "1   9930.0       4.49        76.3      1.650   4090.0  \n",
       "2  12900.0      15.33        76.5      2.890   4460.0  \n",
       "3   5900.0      15.33        60.1      5.023   3530.0  \n",
       "4  19100.0       1.44        76.8      2.130  12200.0  "
      ]
     },
     "execution_count": 137,
     "metadata": {},
     "output_type": "execute_result"
    }
   ],
   "source": [
    "# Merging with original data set\n",
    "pca_cleaned_final_hc1s = pca_cleaned_final_hc1[['country','ClusterID']].merge(countryDf, on = 'country')\n",
    "pca_cleaned_final_hc1s.head()"
   ]
  },
  {
   "cell_type": "code",
   "execution_count": 138,
   "metadata": {
    "scrolled": true
   },
   "outputs": [
    {
     "data": {
      "text/html": [
       "<div>\n",
       "<style scoped>\n",
       "    .dataframe tbody tr th:only-of-type {\n",
       "        vertical-align: middle;\n",
       "    }\n",
       "\n",
       "    .dataframe tbody tr th {\n",
       "        vertical-align: top;\n",
       "    }\n",
       "\n",
       "    .dataframe thead th {\n",
       "        text-align: right;\n",
       "    }\n",
       "</style>\n",
       "<table border=\"1\" class=\"dataframe\">\n",
       "  <thead>\n",
       "    <tr style=\"text-align: right;\">\n",
       "      <th></th>\n",
       "      <th>gdpp</th>\n",
       "      <th>child_mort</th>\n",
       "      <th>income</th>\n",
       "    </tr>\n",
       "    <tr>\n",
       "      <th>ClusterID</th>\n",
       "      <th></th>\n",
       "      <th></th>\n",
       "      <th></th>\n",
       "    </tr>\n",
       "  </thead>\n",
       "  <tbody>\n",
       "    <tr>\n",
       "      <th>0</th>\n",
       "      <td>9877.799264</td>\n",
       "      <td>34.056687</td>\n",
       "      <td>14080.532025</td>\n",
       "    </tr>\n",
       "    <tr>\n",
       "      <th>1</th>\n",
       "      <td>17100.000000</td>\n",
       "      <td>88.310000</td>\n",
       "      <td>33700.000000</td>\n",
       "    </tr>\n",
       "    <tr>\n",
       "      <th>2</th>\n",
       "      <td>12100.000000</td>\n",
       "      <td>16.600000</td>\n",
       "      <td>29600.000000</td>\n",
       "    </tr>\n",
       "    <tr>\n",
       "      <th>3</th>\n",
       "      <td>19300.000000</td>\n",
       "      <td>13.700000</td>\n",
       "      <td>36200.000000</td>\n",
       "    </tr>\n",
       "  </tbody>\n",
       "</table>\n",
       "</div>"
      ],
      "text/plain": [
       "                   gdpp  child_mort        income\n",
       "ClusterID                                        \n",
       "0           9877.799264   34.056687  14080.532025\n",
       "1          17100.000000   88.310000  33700.000000\n",
       "2          12100.000000   16.600000  29600.000000\n",
       "3          19300.000000   13.700000  36200.000000"
      ]
     },
     "execution_count": 138,
     "metadata": {},
     "output_type": "execute_result"
    }
   ],
   "source": [
    "# Getting the average (mean) for each cluster\n",
    "pca_cleaned_final_hc1s.drop('country',axis=1).groupby('ClusterID')[['gdpp','child_mort','income']].mean()"
   ]
  },
  {
   "cell_type": "code",
   "execution_count": 139,
   "metadata": {
    "scrolled": false
   },
   "outputs": [
    {
     "data": {
      "image/png": "[encoded data removed]",
      "text/plain": [
       "<Figure size 432x288 with 1 Axes>"
      ]
     },
     "metadata": {
      "needs_background": "light"
     },
     "output_type": "display_data"
    },
    {
     "data": {
      "image/png": "[encoded data removed]",
      "text/plain": [
       "<Figure size 432x288 with 1 Axes>"
      ]
     },
     "metadata": {
      "needs_background": "light"
     },
     "output_type": "display_data"
    },
    {
     "data": {
      "image/png": "[encoded data removed]",
      "text/plain": [
       "<Figure size 432x288 with 1 Axes>"
      ]
     },
     "metadata": {
      "needs_background": "light"
     },
     "output_type": "display_data"
    }
   ],
   "source": [
    "# Plotting the above per cluter\n",
    "pca_cleaned_final_hc1s.drop('country',axis=1).groupby('ClusterID')[['gdpp']].mean().plot(kind='bar')\n",
    "pca_cleaned_final_hc1s.drop('country',axis=1).groupby('ClusterID')[['child_mort']].mean().plot(kind='bar')\n",
    "pca_cleaned_final_hc1s.drop('country',axis=1).groupby('ClusterID')[['income']].mean().plot(kind='bar');"
   ]
  },
  {
   "cell_type": "markdown",
   "metadata": {},
   "source": [
    "#### The single clustering does not give a meaningfull clustering and it is more random. So we choose the complete method to do the hierarchical clustering."
   ]
  },
  {
   "cell_type": "markdown",
   "metadata": {},
   "source": [
    "- ### Complete clustering"
   ]
  },
  {
   "cell_type": "code",
   "execution_count": 140,
   "metadata": {
    "scrolled": true
   },
   "outputs": [
    {
     "data": {
      "image/png": "[encoded data removed]",
      "text/plain": [
       "<Figure size 2000x1000 with 1 Axes>"
      ]
     },
     "metadata": {
      "needs_background": "light"
     },
     "output_type": "display_data"
    }
   ],
   "source": [
    "plt.figure(figsize=(20,10),dpi=100)\n",
    "mergings = linkage(pca_cleaned_final_hierchy, method = \"complete\", metric='euclidean')\n",
    "plt.hlines(y=5, xmax=2000, xmin=0, colors=\"b\", linestyles=\"-\")\n",
    "dendrogram(mergings)\n",
    "plt.show()"
   ]
  },
  {
   "cell_type": "markdown",
   "metadata": {},
   "source": [
    "##### Looking at both degdogram the complete seem most and better\n",
    "##### Looking at the complete dedrogram it is most optimus to cut at n = 4 i"
   ]
  },
  {
   "cell_type": "code",
   "execution_count": 141,
   "metadata": {
    "scrolled": true
   },
   "outputs": [
    {
     "data": {
      "text/html": [
       "<div>\n",
       "<style scoped>\n",
       "    .dataframe tbody tr th:only-of-type {\n",
       "        vertical-align: middle;\n",
       "    }\n",
       "\n",
       "    .dataframe tbody tr th {\n",
       "        vertical-align: top;\n",
       "    }\n",
       "\n",
       "    .dataframe thead th {\n",
       "        text-align: right;\n",
       "    }\n",
       "</style>\n",
       "<table border=\"1\" class=\"dataframe\">\n",
       "  <thead>\n",
       "    <tr style=\"text-align: right;\">\n",
       "      <th></th>\n",
       "      <th>PC1</th>\n",
       "      <th>PC2</th>\n",
       "      <th>PC3</th>\n",
       "      <th>ClusterID</th>\n",
       "    </tr>\n",
       "  </thead>\n",
       "  <tbody>\n",
       "    <tr>\n",
       "      <th>0</th>\n",
       "      <td>-3.410557</td>\n",
       "      <td>1.335314</td>\n",
       "      <td>-0.234486</td>\n",
       "      <td>0</td>\n",
       "    </tr>\n",
       "    <tr>\n",
       "      <th>1</th>\n",
       "      <td>-0.163978</td>\n",
       "      <td>-1.741221</td>\n",
       "      <td>-0.193250</td>\n",
       "      <td>1</td>\n",
       "    </tr>\n",
       "    <tr>\n",
       "      <th>2</th>\n",
       "      <td>-0.868662</td>\n",
       "      <td>-0.816567</td>\n",
       "      <td>1.693218</td>\n",
       "      <td>1</td>\n",
       "    </tr>\n",
       "    <tr>\n",
       "      <th>3</th>\n",
       "      <td>-2.918449</td>\n",
       "      <td>1.657255</td>\n",
       "      <td>0.971242</td>\n",
       "      <td>0</td>\n",
       "    </tr>\n",
       "    <tr>\n",
       "      <th>4</th>\n",
       "      <td>1.469472</td>\n",
       "      <td>-0.618764</td>\n",
       "      <td>-0.592412</td>\n",
       "      <td>2</td>\n",
       "    </tr>\n",
       "  </tbody>\n",
       "</table>\n",
       "</div>"
      ],
      "text/plain": [
       "        PC1       PC2       PC3  ClusterID\n",
       "0 -3.410557  1.335314 -0.234486          0\n",
       "1 -0.163978 -1.741221 -0.193250          1\n",
       "2 -0.868662 -0.816567  1.693218          1\n",
       "3 -2.918449  1.657255  0.971242          0\n",
       "4  1.469472 -0.618764 -0.592412          2"
      ]
     },
     "execution_count": 141,
     "metadata": {},
     "output_type": "execute_result"
    }
   ],
   "source": [
    "clusterCut = pd.Series(cut_tree(mergings, n_clusters = 4).reshape(-1,))\n",
    "pca_cleaned_final_h = pd.concat([pca_cleaned_final_hierchy, clusterCut], axis=1)\n",
    "pca_cleaned_final_h.columns = [\"PC1\",\"PC2\",\"PC3\",\"ClusterID\"]\n",
    "pca_cleaned_final_h.head()"
   ]
  },
  {
   "cell_type": "code",
   "execution_count": 142,
   "metadata": {
    "scrolled": true
   },
   "outputs": [
    {
     "data": {
      "text/html": [
       "<div>\n",
       "<style scoped>\n",
       "    .dataframe tbody tr th:only-of-type {\n",
       "        vertical-align: middle;\n",
       "    }\n",
       "\n",
       "    .dataframe tbody tr th {\n",
       "        vertical-align: top;\n",
       "    }\n",
       "\n",
       "    .dataframe thead th {\n",
       "        text-align: right;\n",
       "    }\n",
       "</style>\n",
       "<table border=\"1\" class=\"dataframe\">\n",
       "  <thead>\n",
       "    <tr style=\"text-align: right;\">\n",
       "      <th></th>\n",
       "      <th>country</th>\n",
       "      <th>PC1</th>\n",
       "      <th>PC2</th>\n",
       "      <th>PC3</th>\n",
       "      <th>ClusterID</th>\n",
       "    </tr>\n",
       "  </thead>\n",
       "  <tbody>\n",
       "    <tr>\n",
       "      <th>0</th>\n",
       "      <td>Afghanistan</td>\n",
       "      <td>-3.410557</td>\n",
       "      <td>1.335314</td>\n",
       "      <td>-0.234486</td>\n",
       "      <td>0</td>\n",
       "    </tr>\n",
       "    <tr>\n",
       "      <th>1</th>\n",
       "      <td>Albania</td>\n",
       "      <td>-0.163978</td>\n",
       "      <td>-1.741221</td>\n",
       "      <td>-0.193250</td>\n",
       "      <td>1</td>\n",
       "    </tr>\n",
       "    <tr>\n",
       "      <th>2</th>\n",
       "      <td>Algeria</td>\n",
       "      <td>-0.868662</td>\n",
       "      <td>-0.816567</td>\n",
       "      <td>1.693218</td>\n",
       "      <td>1</td>\n",
       "    </tr>\n",
       "    <tr>\n",
       "      <th>3</th>\n",
       "      <td>Angola</td>\n",
       "      <td>-2.918449</td>\n",
       "      <td>1.657255</td>\n",
       "      <td>0.971242</td>\n",
       "      <td>0</td>\n",
       "    </tr>\n",
       "    <tr>\n",
       "      <th>4</th>\n",
       "      <td>Antigua and Barbuda</td>\n",
       "      <td>1.469472</td>\n",
       "      <td>-0.618764</td>\n",
       "      <td>-0.592412</td>\n",
       "      <td>2</td>\n",
       "    </tr>\n",
       "  </tbody>\n",
       "</table>\n",
       "</div>"
      ],
      "text/plain": [
       "               country       PC1       PC2       PC3  ClusterID\n",
       "0          Afghanistan -3.410557  1.335314 -0.234486          0\n",
       "1              Albania -0.163978 -1.741221 -0.193250          1\n",
       "2              Algeria -0.868662 -0.816567  1.693218          1\n",
       "3               Angola -2.918449  1.657255  0.971242          0\n",
       "4  Antigua and Barbuda  1.469472 -0.618764 -0.592412          2"
      ]
     },
     "execution_count": 142,
     "metadata": {},
     "output_type": "execute_result"
    }
   ],
   "source": [
    "# Merging data set\n",
    "pca_cleaned_final_hc = pd.concat([countryDf['country'],pca_cleaned_final_h], axis=1, join='outer', join_axes=None, ignore_index=False, keys=None, levels=None, names=None, verify_integrity=False, sort=None, copy=True)\n",
    "pca_cleaned_final_hc.head()"
   ]
  },
  {
   "cell_type": "markdown",
   "metadata": {},
   "source": [
    "# Cluster Profiling"
   ]
  },
  {
   "cell_type": "code",
   "execution_count": 143,
   "metadata": {},
   "outputs": [
    {
     "data": {
      "text/html": [
       "<div>\n",
       "<style scoped>\n",
       "    .dataframe tbody tr th:only-of-type {\n",
       "        vertical-align: middle;\n",
       "    }\n",
       "\n",
       "    .dataframe tbody tr th {\n",
       "        vertical-align: top;\n",
       "    }\n",
       "\n",
       "    .dataframe thead th {\n",
       "        text-align: right;\n",
       "    }\n",
       "</style>\n",
       "<table border=\"1\" class=\"dataframe\">\n",
       "  <thead>\n",
       "    <tr style=\"text-align: right;\">\n",
       "      <th></th>\n",
       "      <th>country</th>\n",
       "      <th>ClusterID</th>\n",
       "      <th>child_mort</th>\n",
       "      <th>exports</th>\n",
       "      <th>health</th>\n",
       "      <th>imports</th>\n",
       "      <th>income</th>\n",
       "      <th>inflation</th>\n",
       "      <th>life_expec</th>\n",
       "      <th>total_fer</th>\n",
       "      <th>gdpp</th>\n",
       "    </tr>\n",
       "  </thead>\n",
       "  <tbody>\n",
       "    <tr>\n",
       "      <th>0</th>\n",
       "      <td>Afghanistan</td>\n",
       "      <td>0</td>\n",
       "      <td>88.31</td>\n",
       "      <td>55.30</td>\n",
       "      <td>41.9174</td>\n",
       "      <td>248.297</td>\n",
       "      <td>1610.0</td>\n",
       "      <td>9.44</td>\n",
       "      <td>56.2</td>\n",
       "      <td>5.023</td>\n",
       "      <td>553.0</td>\n",
       "    </tr>\n",
       "    <tr>\n",
       "      <th>1</th>\n",
       "      <td>Albania</td>\n",
       "      <td>1</td>\n",
       "      <td>16.60</td>\n",
       "      <td>1145.20</td>\n",
       "      <td>267.8950</td>\n",
       "      <td>1987.740</td>\n",
       "      <td>9930.0</td>\n",
       "      <td>4.49</td>\n",
       "      <td>76.3</td>\n",
       "      <td>1.650</td>\n",
       "      <td>4090.0</td>\n",
       "    </tr>\n",
       "    <tr>\n",
       "      <th>2</th>\n",
       "      <td>Algeria</td>\n",
       "      <td>1</td>\n",
       "      <td>27.30</td>\n",
       "      <td>1712.64</td>\n",
       "      <td>185.9820</td>\n",
       "      <td>1400.440</td>\n",
       "      <td>12900.0</td>\n",
       "      <td>15.33</td>\n",
       "      <td>76.5</td>\n",
       "      <td>2.890</td>\n",
       "      <td>4460.0</td>\n",
       "    </tr>\n",
       "    <tr>\n",
       "      <th>3</th>\n",
       "      <td>Angola</td>\n",
       "      <td>0</td>\n",
       "      <td>88.31</td>\n",
       "      <td>2199.19</td>\n",
       "      <td>100.6050</td>\n",
       "      <td>1514.370</td>\n",
       "      <td>5900.0</td>\n",
       "      <td>15.33</td>\n",
       "      <td>60.1</td>\n",
       "      <td>5.023</td>\n",
       "      <td>3530.0</td>\n",
       "    </tr>\n",
       "    <tr>\n",
       "      <th>4</th>\n",
       "      <td>Antigua and Barbuda</td>\n",
       "      <td>2</td>\n",
       "      <td>10.30</td>\n",
       "      <td>5551.00</td>\n",
       "      <td>735.6600</td>\n",
       "      <td>7185.800</td>\n",
       "      <td>19100.0</td>\n",
       "      <td>1.44</td>\n",
       "      <td>76.8</td>\n",
       "      <td>2.130</td>\n",
       "      <td>12200.0</td>\n",
       "    </tr>\n",
       "  </tbody>\n",
       "</table>\n",
       "</div>"
      ],
      "text/plain": [
       "               country  ClusterID  child_mort  exports    health   imports  \\\n",
       "0          Afghanistan          0       88.31    55.30   41.9174   248.297   \n",
       "1              Albania          1       16.60  1145.20  267.8950  1987.740   \n",
       "2              Algeria          1       27.30  1712.64  185.9820  1400.440   \n",
       "3               Angola          0       88.31  2199.19  100.6050  1514.370   \n",
       "4  Antigua and Barbuda          2       10.30  5551.00  735.6600  7185.800   \n",
       "\n",
       "    income  inflation  life_expec  total_fer     gdpp  \n",
       "0   1610.0       9.44        56.2      5.023    553.0  \n",
       "1   9930.0       4.49        76.3      1.650   4090.0  \n",
       "2  12900.0      15.33        76.5      2.890   4460.0  \n",
       "3   5900.0      15.33        60.1      5.023   3530.0  \n",
       "4  19100.0       1.44        76.8      2.130  12200.0  "
      ]
     },
     "execution_count": 143,
     "metadata": {},
     "output_type": "execute_result"
    }
   ],
   "source": [
    "# Merging with original data set\n",
    "pca_cleaned_final_hc2 = pca_cleaned_final_hc[['country','ClusterID']].merge(countryDf, on = 'country')\n",
    "pca_cleaned_final_hc2.head()"
   ]
  },
  {
   "cell_type": "markdown",
   "metadata": {},
   "source": [
    "### Analysing of clusters\n",
    "- Since we need to find countries that need aid, we will look and analysis the gdpp, child_mort, and income of each country\n",
    "- We will calculate the average of each of the above for each cluster"
   ]
  },
  {
   "cell_type": "code",
   "execution_count": 144,
   "metadata": {},
   "outputs": [
    {
     "data": {
      "text/html": [
       "<div>\n",
       "<style scoped>\n",
       "    .dataframe tbody tr th:only-of-type {\n",
       "        vertical-align: middle;\n",
       "    }\n",
       "\n",
       "    .dataframe tbody tr th {\n",
       "        vertical-align: top;\n",
       "    }\n",
       "\n",
       "    .dataframe thead th {\n",
       "        text-align: right;\n",
       "    }\n",
       "</style>\n",
       "<table border=\"1\" class=\"dataframe\">\n",
       "  <thead>\n",
       "    <tr style=\"text-align: right;\">\n",
       "      <th></th>\n",
       "      <th>gdpp</th>\n",
       "      <th>child_mort</th>\n",
       "      <th>income</th>\n",
       "    </tr>\n",
       "    <tr>\n",
       "      <th>ClusterID</th>\n",
       "      <th></th>\n",
       "      <th></th>\n",
       "      <th></th>\n",
       "    </tr>\n",
       "  </thead>\n",
       "  <tbody>\n",
       "    <tr>\n",
       "      <th>0</th>\n",
       "      <td>1274.030476</td>\n",
       "      <td>79.320000</td>\n",
       "      <td>2721.826667</td>\n",
       "    </tr>\n",
       "    <tr>\n",
       "      <th>1</th>\n",
       "      <td>4344.030769</td>\n",
       "      <td>28.244615</td>\n",
       "      <td>8989.384615</td>\n",
       "    </tr>\n",
       "    <tr>\n",
       "      <th>2</th>\n",
       "      <td>22281.886792</td>\n",
       "      <td>6.679245</td>\n",
       "      <td>28073.584906</td>\n",
       "    </tr>\n",
       "    <tr>\n",
       "      <th>3</th>\n",
       "      <td>23010.000000</td>\n",
       "      <td>23.172857</td>\n",
       "      <td>34900.000000</td>\n",
       "    </tr>\n",
       "  </tbody>\n",
       "</table>\n",
       "</div>"
      ],
      "text/plain": [
       "                   gdpp  child_mort        income\n",
       "ClusterID                                        \n",
       "0           1274.030476   79.320000   2721.826667\n",
       "1           4344.030769   28.244615   8989.384615\n",
       "2          22281.886792    6.679245  28073.584906\n",
       "3          23010.000000   23.172857  34900.000000"
      ]
     },
     "execution_count": 144,
     "metadata": {},
     "output_type": "execute_result"
    }
   ],
   "source": [
    "# Getting the average (mean) for each cluster\n",
    "pca_cleaned_final_hc2.drop('country',axis=1).groupby('ClusterID')[['gdpp','child_mort','income']].mean()"
   ]
  },
  {
   "cell_type": "code",
   "execution_count": 145,
   "metadata": {
    "scrolled": true
   },
   "outputs": [
    {
     "data": {
      "image/png": "[encoded data removed]",
      "text/plain": [
       "<Figure size 432x288 with 1 Axes>"
      ]
     },
     "metadata": {
      "needs_background": "light"
     },
     "output_type": "display_data"
    },
    {
     "data": {
      "image/png": "[encoded data removed]",
      "text/plain": [
       "<Figure size 432x288 with 1 Axes>"
      ]
     },
     "metadata": {
      "needs_background": "light"
     },
     "output_type": "display_data"
    },
    {
     "data": {
      "image/png": "[encoded data removed]",
      "text/plain": [
       "<Figure size 432x288 with 1 Axes>"
      ]
     },
     "metadata": {
      "needs_background": "light"
     },
     "output_type": "display_data"
    }
   ],
   "source": [
    "# Plotting the above per cluter\n",
    "pca_cleaned_final_hc2.drop('country',axis=1).groupby('ClusterID')[['gdpp']].mean().plot(kind='bar')\n",
    "pca_cleaned_final_hc2.drop('country',axis=1).groupby('ClusterID')[['child_mort']].mean().plot(kind='bar')\n",
    "pca_cleaned_final_hc2.drop('country',axis=1).groupby('ClusterID')[['income']].mean().plot(kind='bar');"
   ]
  },
  {
   "cell_type": "code",
   "execution_count": 146,
   "metadata": {
    "scrolled": true
   },
   "outputs": [
    {
     "data": {
      "image/png": "[encoded data removed]",
      "text/plain": [
       "<Figure size 1440x432 with 3 Axes>"
      ]
     },
     "metadata": {
      "needs_background": "light"
     },
     "output_type": "display_data"
    }
   ],
   "source": [
    "# and if we plot a boxplot that will show more clearly that low and higher clusters\n",
    "plt.figure(figsize=(20,6))\n",
    "for i in enumerate(['gdpp','child_mort','income']):\n",
    "    plt.subplot(1,3,i[0]+1)\n",
    "    sns.boxplot(x='ClusterID',y=i[1],data=pca_cleaned_final_hc2)"
   ]
  },
  {
   "cell_type": "markdown",
   "metadata": {},
   "source": [
    "## Assumption\n",
    "- ##### Cluster 0 is countries that have very low GDP about 1274, high mortality rate =79, and low income of about 2722.\n",
    "- ##### So our target countries that will need aid from HELP international would fall under cluster 0"
   ]
  },
  {
   "cell_type": "markdown",
   "metadata": {},
   "source": [
    "### Listing countries under cluster 0 "
   ]
  },
  {
   "cell_type": "code",
   "execution_count": 147,
   "metadata": {
    "scrolled": false
   },
   "outputs": [
    {
     "name": "stdout",
     "output_type": "stream",
     "text": [
      "['Afghanistan' 'Angola' 'Benin' 'Burkina Faso' 'Burundi' 'Cameroon'\n",
      " 'Central African Republic' 'Chad' 'Comoros' 'Congo, Dem. Rep.'\n",
      " 'Congo, Rep.' \"Cote d'Ivoire\" 'Eritrea' 'Gabon' 'Gambia' 'Ghana' 'Guinea'\n",
      " 'Guinea-Bissau' 'Haiti' 'Iraq' 'Kenya' 'Kiribati' 'Lesotho' 'Liberia'\n",
      " 'Madagascar' 'Malawi' 'Mali' 'Mauritania' 'Mozambique' 'Niger' 'Nigeria'\n",
      " 'Pakistan' 'Rwanda' 'Senegal' 'Sierra Leone' 'Sudan' 'Tanzania'\n",
      " 'Timor-Leste' 'Togo' 'Uganda' 'Yemen' 'Zambia']\n",
      "42\n"
     ]
    }
   ],
   "source": [
    "print(pca_cleaned_final_hc2[pca_cleaned_final_hc2.ClusterID==0]['country'].values)\n",
    "print(len(pca_cleaned_final_hc2[pca_cleaned_final_hc2.ClusterID==0]['country'].values))"
   ]
  },
  {
   "cell_type": "markdown",
   "metadata": {},
   "source": [
    "### Countries below average gdpp (1274), average income (2722) and above average child mortality (79)"
   ]
  },
  {
   "cell_type": "code",
   "execution_count": 148,
   "metadata": {
    "scrolled": true
   },
   "outputs": [
    {
     "name": "stdout",
     "output_type": "stream",
     "text": [
      "['Afghanistan' 'Benin' 'Burkina Faso' 'Burundi' 'Central African Republic'\n",
      " 'Chad' 'Comoros' 'Congo, Dem. Rep.' \"Cote d'Ivoire\" 'Gambia' 'Guinea'\n",
      " 'Guinea-Bissau' 'Haiti' 'Lesotho' 'Liberia' 'Malawi' 'Mali' 'Mozambique'\n",
      " 'Niger' 'Sierra Leone' 'Togo' 'Uganda']\n",
      "22\n"
     ]
    }
   ],
   "source": [
    "# to be on the safe side, we can futher narrow down the list of cluser 0 countries by filtering countries\n",
    "# below average gdpp and income and above average child mortality \n",
    "print(country_df[((pca_cleaned_final_hc2['gdpp']<1274.030476) & (pca_cleaned_final_hc2['ClusterID']==0)) &\n",
    "           ((pca_cleaned_final_hc2['income']<2721.826667) & (pca_cleaned_final_hc2['ClusterID']==0))&\n",
    "           ((pca_cleaned_final_hc2['child_mort']>79.320000) & (pca_cleaned_final_hc2['ClusterID']==0))]['country'].values)\n",
    "print(len(country_df[((pca_cleaned_final_hc2['gdpp']<1274.030476) & (pca_cleaned_final_hc2['ClusterID']==0)) &\n",
    "           ((pca_cleaned_final_hc2['income']<2721.826667) & (pca_cleaned_final_hc2['ClusterID']==0))&\n",
    "           ((pca_cleaned_final_hc2['child_mort']>79.320000) & (pca_cleaned_final_hc2['ClusterID']==0))]['country'].values))"
   ]
  },
  {
   "cell_type": "code",
   "execution_count": 149,
   "metadata": {},
   "outputs": [],
   "source": [
    "last_countries=country_df[((pca_cleaned_final_hc2['gdpp']<1274.030476) & (pca_cleaned_final_hc2['ClusterID']==0)) &\n",
    "           ((pca_cleaned_final_hc2['income']<2721.826667) & (pca_cleaned_final_hc2['ClusterID']==0))&\n",
    "           ((pca_cleaned_final_hc2['child_mort']>79.320000) &\n",
    "            (pca_cleaned_final_hc2['ClusterID']==0))][['country','gdpp','income','child_mort']].sort_values(['gdpp', 'income','child_mort'], ascending=[True, True, False])"
   ]
  },
  {
   "cell_type": "code",
   "execution_count": 150,
   "metadata": {},
   "outputs": [],
   "source": [
    "last_countries.reset_index().drop('index',axis=1,inplace=True)\n",
    "last_countries.to_csv('final countries.csv')"
   ]
  },
  {
   "cell_type": "markdown",
   "metadata": {},
   "source": [
    "# Final Result anc Conclusion"
   ]
  },
  {
   "cell_type": "markdown",
   "metadata": {},
   "source": [
    " - According to World Bank, https://datahelpdesk.worldbank.org/knowledgebase/articles/906519\n",
    " - Countries with GNI or income of per capita between ```$1,026``` and ```$3,995``` is considered as low-middle income countries and countries with lower GNI of ```$1,025``` is considered as low-income countries.\n",
    " - These countries have a very high percenetage of population under poverty line\n",
    " \n",
    " \n",
    " - ### Assuming our data set reflects that latest data then\n",
    " - These lists out those countries that have average income of $2722, high child mortality rate of 79 and low gdpp of $1274. So the following countries will fall under above average values.\n",
    " \n",
    "### These countries are (42 countries):\n",
    "'Afghanistan' 'Angola' 'Benin' 'Burkina Faso' 'Burundi' 'Cameroon'\n",
    " 'Central African Republic' 'Chad' 'Comoros' 'Congo, Dem. Rep.'\n",
    " 'Congo, Rep.' \"Cote d'Ivoire\" 'Eritrea' 'Gabon' 'Gambia' 'Ghana' 'Guinea'\n",
    " 'Guinea-Bissau' 'Haiti' 'Iraq' 'Kenya' 'Kiribati' 'Lesotho' 'Liberia'\n",
    " 'Madagascar' 'Malawi' 'Mali' 'Mauritania' 'Mozambique' 'Niger' 'Nigeria'\n",
    " 'Pakistan' 'Rwanda' 'Senegal' 'Sierra Leone' 'Sudan' 'Tanzania'\n",
    " 'Timor-Leste' 'Togo' 'Uganda' 'Yemen' 'Zambia'\n",
    " \n",
    "##### But still if a prioritization is needed or the budget is limited or want to be more strict then it is we can filter down the above countries who are below average income of $2722, gdpp of $1274 and child mortality rate above average of 79 children.\n",
    " \n",
    "### These countries are (there are 22 countries that falls in this category):\n",
    "'Afghanistan' 'Benin' 'Burkina Faso' 'Burundi' 'Central African Republic'\n",
    " 'Chad' 'Comoros' 'Congo, Dem. Rep.' \"Cote d'Ivoire\" 'Gambia' 'Guinea'\n",
    " 'Guinea-Bissau' 'Haiti' 'Lesotho' 'Liberia' 'Malawi' 'Mali' 'Mozambique'\n",
    " 'Niger' 'Sierra Leone' 'Togo' 'Uganda'\n"
   ]
  },
  {
   "cell_type": "code",
   "execution_count": 151,
   "metadata": {},
   "outputs": [
    {
     "data": {
      "text/html": [
       "<div>\n",
       "<style scoped>\n",
       "    .dataframe tbody tr th:only-of-type {\n",
       "        vertical-align: middle;\n",
       "    }\n",
       "\n",
       "    .dataframe tbody tr th {\n",
       "        vertical-align: top;\n",
       "    }\n",
       "\n",
       "    .dataframe thead th {\n",
       "        text-align: right;\n",
       "    }\n",
       "</style>\n",
       "<table border=\"1\" class=\"dataframe\">\n",
       "  <thead>\n",
       "    <tr style=\"text-align: right;\">\n",
       "      <th></th>\n",
       "      <th>country</th>\n",
       "      <th>gdpp</th>\n",
       "      <th>income</th>\n",
       "      <th>child_mort</th>\n",
       "    </tr>\n",
       "  </thead>\n",
       "  <tbody>\n",
       "    <tr>\n",
       "      <th>26</th>\n",
       "      <td>Burundi</td>\n",
       "      <td>231</td>\n",
       "      <td>764</td>\n",
       "      <td>93.6</td>\n",
       "    </tr>\n",
       "    <tr>\n",
       "      <th>88</th>\n",
       "      <td>Liberia</td>\n",
       "      <td>327</td>\n",
       "      <td>700</td>\n",
       "      <td>89.3</td>\n",
       "    </tr>\n",
       "    <tr>\n",
       "      <th>37</th>\n",
       "      <td>Congo, Dem. Rep.</td>\n",
       "      <td>334</td>\n",
       "      <td>609</td>\n",
       "      <td>116.0</td>\n",
       "    </tr>\n",
       "    <tr>\n",
       "      <th>112</th>\n",
       "      <td>Niger</td>\n",
       "      <td>348</td>\n",
       "      <td>814</td>\n",
       "      <td>123.0</td>\n",
       "    </tr>\n",
       "    <tr>\n",
       "      <th>132</th>\n",
       "      <td>Sierra Leone</td>\n",
       "      <td>399</td>\n",
       "      <td>1220</td>\n",
       "      <td>160.0</td>\n",
       "    </tr>\n",
       "    <tr>\n",
       "      <th>106</th>\n",
       "      <td>Mozambique</td>\n",
       "      <td>419</td>\n",
       "      <td>918</td>\n",
       "      <td>101.0</td>\n",
       "    </tr>\n",
       "    <tr>\n",
       "      <th>31</th>\n",
       "      <td>Central African Republic</td>\n",
       "      <td>446</td>\n",
       "      <td>888</td>\n",
       "      <td>149.0</td>\n",
       "    </tr>\n",
       "    <tr>\n",
       "      <th>94</th>\n",
       "      <td>Malawi</td>\n",
       "      <td>459</td>\n",
       "      <td>1030</td>\n",
       "      <td>90.5</td>\n",
       "    </tr>\n",
       "    <tr>\n",
       "      <th>150</th>\n",
       "      <td>Togo</td>\n",
       "      <td>488</td>\n",
       "      <td>1210</td>\n",
       "      <td>90.3</td>\n",
       "    </tr>\n",
       "    <tr>\n",
       "      <th>64</th>\n",
       "      <td>Guinea-Bissau</td>\n",
       "      <td>547</td>\n",
       "      <td>1390</td>\n",
       "      <td>114.0</td>\n",
       "    </tr>\n",
       "    <tr>\n",
       "      <th>0</th>\n",
       "      <td>Afghanistan</td>\n",
       "      <td>553</td>\n",
       "      <td>1610</td>\n",
       "      <td>90.2</td>\n",
       "    </tr>\n",
       "    <tr>\n",
       "      <th>56</th>\n",
       "      <td>Gambia</td>\n",
       "      <td>562</td>\n",
       "      <td>1660</td>\n",
       "      <td>80.3</td>\n",
       "    </tr>\n",
       "    <tr>\n",
       "      <th>25</th>\n",
       "      <td>Burkina Faso</td>\n",
       "      <td>575</td>\n",
       "      <td>1430</td>\n",
       "      <td>116.0</td>\n",
       "    </tr>\n",
       "    <tr>\n",
       "      <th>155</th>\n",
       "      <td>Uganda</td>\n",
       "      <td>595</td>\n",
       "      <td>1540</td>\n",
       "      <td>81.0</td>\n",
       "    </tr>\n",
       "    <tr>\n",
       "      <th>63</th>\n",
       "      <td>Guinea</td>\n",
       "      <td>648</td>\n",
       "      <td>1190</td>\n",
       "      <td>109.0</td>\n",
       "    </tr>\n",
       "    <tr>\n",
       "      <th>66</th>\n",
       "      <td>Haiti</td>\n",
       "      <td>662</td>\n",
       "      <td>1500</td>\n",
       "      <td>208.0</td>\n",
       "    </tr>\n",
       "    <tr>\n",
       "      <th>97</th>\n",
       "      <td>Mali</td>\n",
       "      <td>708</td>\n",
       "      <td>1870</td>\n",
       "      <td>137.0</td>\n",
       "    </tr>\n",
       "    <tr>\n",
       "      <th>17</th>\n",
       "      <td>Benin</td>\n",
       "      <td>758</td>\n",
       "      <td>1820</td>\n",
       "      <td>111.0</td>\n",
       "    </tr>\n",
       "    <tr>\n",
       "      <th>36</th>\n",
       "      <td>Comoros</td>\n",
       "      <td>769</td>\n",
       "      <td>1410</td>\n",
       "      <td>88.2</td>\n",
       "    </tr>\n",
       "    <tr>\n",
       "      <th>32</th>\n",
       "      <td>Chad</td>\n",
       "      <td>897</td>\n",
       "      <td>1930</td>\n",
       "      <td>150.0</td>\n",
       "    </tr>\n",
       "    <tr>\n",
       "      <th>87</th>\n",
       "      <td>Lesotho</td>\n",
       "      <td>1170</td>\n",
       "      <td>2380</td>\n",
       "      <td>99.7</td>\n",
       "    </tr>\n",
       "    <tr>\n",
       "      <th>40</th>\n",
       "      <td>Cote d'Ivoire</td>\n",
       "      <td>1220</td>\n",
       "      <td>2690</td>\n",
       "      <td>111.0</td>\n",
       "    </tr>\n",
       "  </tbody>\n",
       "</table>\n",
       "</div>"
      ],
      "text/plain": [
       "                      country  gdpp  income  child_mort\n",
       "26                    Burundi   231     764        93.6\n",
       "88                    Liberia   327     700        89.3\n",
       "37           Congo, Dem. Rep.   334     609       116.0\n",
       "112                     Niger   348     814       123.0\n",
       "132              Sierra Leone   399    1220       160.0\n",
       "106                Mozambique   419     918       101.0\n",
       "31   Central African Republic   446     888       149.0\n",
       "94                     Malawi   459    1030        90.5\n",
       "150                      Togo   488    1210        90.3\n",
       "64              Guinea-Bissau   547    1390       114.0\n",
       "0                 Afghanistan   553    1610        90.2\n",
       "56                     Gambia   562    1660        80.3\n",
       "25               Burkina Faso   575    1430       116.0\n",
       "155                    Uganda   595    1540        81.0\n",
       "63                     Guinea   648    1190       109.0\n",
       "66                      Haiti   662    1500       208.0\n",
       "97                       Mali   708    1870       137.0\n",
       "17                      Benin   758    1820       111.0\n",
       "36                    Comoros   769    1410        88.2\n",
       "32                       Chad   897    1930       150.0\n",
       "87                    Lesotho  1170    2380        99.7\n",
       "40              Cote d'Ivoire  1220    2690       111.0"
      ]
     },
     "execution_count": 151,
     "metadata": {},
     "output_type": "execute_result"
    }
   ],
   "source": [
    "# list of 22 countries above with GDPP, income and child mortality\n",
    "last_countries"
   ]
  },
  {
   "cell_type": "code",
   "execution_count": 152,
   "metadata": {},
   "outputs": [
    {
     "data": {
      "text/html": [
       "<div>\n",
       "<style scoped>\n",
       "    .dataframe tbody tr th:only-of-type {\n",
       "        vertical-align: middle;\n",
       "    }\n",
       "\n",
       "    .dataframe tbody tr th {\n",
       "        vertical-align: top;\n",
       "    }\n",
       "\n",
       "    .dataframe thead th {\n",
       "        text-align: right;\n",
       "    }\n",
       "</style>\n",
       "<table border=\"1\" class=\"dataframe\">\n",
       "  <thead>\n",
       "    <tr style=\"text-align: right;\">\n",
       "      <th></th>\n",
       "      <th>country</th>\n",
       "      <th>gdpp</th>\n",
       "      <th>income</th>\n",
       "      <th>child_mort</th>\n",
       "    </tr>\n",
       "  </thead>\n",
       "  <tbody>\n",
       "    <tr>\n",
       "      <th>26</th>\n",
       "      <td>Burundi</td>\n",
       "      <td>231</td>\n",
       "      <td>764</td>\n",
       "      <td>93.6</td>\n",
       "    </tr>\n",
       "    <tr>\n",
       "      <th>88</th>\n",
       "      <td>Liberia</td>\n",
       "      <td>327</td>\n",
       "      <td>700</td>\n",
       "      <td>89.3</td>\n",
       "    </tr>\n",
       "    <tr>\n",
       "      <th>37</th>\n",
       "      <td>Congo, Dem. Rep.</td>\n",
       "      <td>334</td>\n",
       "      <td>609</td>\n",
       "      <td>116.0</td>\n",
       "    </tr>\n",
       "    <tr>\n",
       "      <th>112</th>\n",
       "      <td>Niger</td>\n",
       "      <td>348</td>\n",
       "      <td>814</td>\n",
       "      <td>123.0</td>\n",
       "    </tr>\n",
       "    <tr>\n",
       "      <th>132</th>\n",
       "      <td>Sierra Leone</td>\n",
       "      <td>399</td>\n",
       "      <td>1220</td>\n",
       "      <td>160.0</td>\n",
       "    </tr>\n",
       "  </tbody>\n",
       "</table>\n",
       "</div>"
      ],
      "text/plain": [
       "              country  gdpp  income  child_mort\n",
       "26            Burundi   231     764        93.6\n",
       "88            Liberia   327     700        89.3\n",
       "37   Congo, Dem. Rep.   334     609       116.0\n",
       "112             Niger   348     814       123.0\n",
       "132      Sierra Leone   399    1220       160.0"
      ]
     },
     "execution_count": 152,
     "metadata": {},
     "output_type": "execute_result"
    }
   ],
   "source": [
    "# top 5 direst countries\n",
    "last_countries.head(5)"
   ]
  }
 ],
 "metadata": {
  "kernelspec": {
   "display_name": "Python 3",
   "language": "python",
   "name": "python3"
  },
  "language_info": {
   "codemirror_mode": {
    "name": "ipython",
    "version": 3
   },
   "file_extension": ".py",
   "mimetype": "text/x-python",
   "name": "python",
   "nbconvert_exporter": "python",
   "pygments_lexer": "ipython3",
   "version": "3.7.3"
  }
 },
 "nbformat": 4,
 "nbformat_minor": 2
}
